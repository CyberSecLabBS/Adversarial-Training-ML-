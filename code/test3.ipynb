{
 "cells": [
  {
   "cell_type": "code",
   "execution_count": 1,
   "metadata": {
    "collapsed": true
   },
   "outputs": [],
   "source": [
    "import numpy as np\n",
    "import matplotlib.pyplot as plt\n",
    "import pickle\n",
    "def load_object(filename):\n",
    "    with open(filename, 'rb') as inp:\n",
    "        return pickle.load(inp)"
   ]
  },
  {
   "cell_type": "code",
   "execution_count": 16,
   "outputs": [
    {
     "name": "stderr",
     "output_type": "stream",
     "text": [
      "C:\\Users\\posta\\AppData\\Local\\Temp\\ipykernel_14436\\366624858.py:5: FutureWarning: Indexing with multiple keys (implicitly converted to a tuple of keys) will be deprecated, use a list instead.\n",
      "  mean = res1.groupby(['adv_training_percentage'])['R2', 'MAE', 'MSE'].mean()\n",
      "C:\\Users\\posta\\AppData\\Local\\Temp\\ipykernel_14436\\366624858.py:6: FutureWarning: Indexing with multiple keys (implicitly converted to a tuple of keys) will be deprecated, use a list instead.\n",
      "  std = res1.groupby(['adv_training_percentage'])['R2', 'MAE', 'MSE'].std()\n"
     ]
    },
    {
     "data": {
      "text/plain": "                               R2       MAE       MSE\nadv_training_percentage                              \n0                        1.409679  0.718994  3.215933\n25                       0.277925  0.792781  3.532314\n50                       0.278352  0.929829  4.052721\n75                       0.077791  1.022439  4.767301\n100                      0.145601  1.015424  4.991974",
      "text/html": "<div>\n<style scoped>\n    .dataframe tbody tr th:only-of-type {\n        vertical-align: middle;\n    }\n\n    .dataframe tbody tr th {\n        vertical-align: top;\n    }\n\n    .dataframe thead th {\n        text-align: right;\n    }\n</style>\n<table border=\"1\" class=\"dataframe\">\n  <thead>\n    <tr style=\"text-align: right;\">\n      <th></th>\n      <th>R2</th>\n      <th>MAE</th>\n      <th>MSE</th>\n    </tr>\n    <tr>\n      <th>adv_training_percentage</th>\n      <th></th>\n      <th></th>\n      <th></th>\n    </tr>\n  </thead>\n  <tbody>\n    <tr>\n      <th>0</th>\n      <td>1.409679</td>\n      <td>0.718994</td>\n      <td>3.215933</td>\n    </tr>\n    <tr>\n      <th>25</th>\n      <td>0.277925</td>\n      <td>0.792781</td>\n      <td>3.532314</td>\n    </tr>\n    <tr>\n      <th>50</th>\n      <td>0.278352</td>\n      <td>0.929829</td>\n      <td>4.052721</td>\n    </tr>\n    <tr>\n      <th>75</th>\n      <td>0.077791</td>\n      <td>1.022439</td>\n      <td>4.767301</td>\n    </tr>\n    <tr>\n      <th>100</th>\n      <td>0.145601</td>\n      <td>1.015424</td>\n      <td>4.991974</td>\n    </tr>\n  </tbody>\n</table>\n</div>"
     },
     "execution_count": 16,
     "metadata": {},
     "output_type": "execute_result"
    }
   ],
   "source": [
    "percentages = [0, 25, 50, 75, 100]\n",
    "\n",
    "res1 = load_object(\"results\")\n",
    "res1 = res1[[\"adv_training_percentage\",\"R2\",\"MAE\",\"MSE\"]]\n",
    "mean = res1.groupby(['adv_training_percentage'])['R2', 'MAE', 'MSE'].mean()\n",
    "std = res1.groupby(['adv_training_percentage'])['R2', 'MAE', 'MSE'].std()\n",
    "std"
   ],
   "metadata": {
    "collapsed": false,
    "pycharm": {
     "name": "#%%\n"
    }
   }
  },
  {
   "cell_type": "code",
   "execution_count": null,
   "outputs": [],
   "source": [],
   "metadata": {
    "collapsed": false,
    "pycharm": {
     "name": "#%%\n"
    }
   }
  }
 ],
 "metadata": {
  "kernelspec": {
   "display_name": "Python 3",
   "language": "python",
   "name": "python3"
  },
  "language_info": {
   "codemirror_mode": {
    "name": "ipython",
    "version": 2
   },
   "file_extension": ".py",
   "mimetype": "text/x-python",
   "name": "python",
   "nbconvert_exporter": "python",
   "pygments_lexer": "ipython2",
   "version": "2.7.6"
  }
 },
 "nbformat": 4,
 "nbformat_minor": 0
}