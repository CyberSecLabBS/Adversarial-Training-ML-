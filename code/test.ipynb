{
 "cells": [
  {
   "cell_type": "code",
   "execution_count": 5,
   "metadata": {
    "collapsed": true,
    "pycharm": {
     "name": "#%%\n"
    }
   },
   "outputs": [],
   "source": [
    "import pickle\n",
    "def load_object(filename):\n",
    "    with open(filename, 'rb') as inp:\n",
    "        return pickle.load(inp)"
   ]
  },
  {
   "cell_type": "code",
   "execution_count": 6,
   "outputs": [],
   "source": [
    "# la roba migliore da fare è questa. Una tabella con overhead di tempo dal primo ai successivi e meglioramento delle prestazioni dal primo ai successivi."
   ],
   "metadata": {
    "collapsed": false,
    "pycharm": {
     "name": "#%%\n"
    }
   }
  },
  {
   "cell_type": "code",
   "execution_count": 13,
   "outputs": [
    {
     "name": "stderr",
     "output_type": "stream",
     "text": [
      "C:\\Users\\posta\\AppData\\Local\\Temp\\ipykernel_7456\\2271241451.py:3: FutureWarning: Indexing with multiple keys (implicitly converted to a tuple of keys) will be deprecated, use a list instead.\n",
      "  res1 = res1.groupby(['dataset','adv_training_percentage','training_attack','training_time'])['R2', 'MAE', 'MSE'].mean()\n"
     ]
    },
    {
     "data": {
      "text/plain": "                                                                         R2  \\\ndataset     adv_training_percentage training_attack training_time             \nhousing     0                       fgsm            44.030864      0.085109   \n            25                      fgsm            85.850353      0.197123   \n            50                      fgsm            99.631434     -0.186231   \n            75                      fgsm            189.086894     0.518037   \n            100                     fgsm            159.441691     0.061918   \n            0                       pgd             43.964837     -2.659243   \n            25                      pgd             1445.435115   -0.060072   \n            50                      pgd             1830.784020    0.195725   \n            75                      pgd             4437.860977    0.321251   \n            100                     pgd             4360.311604    0.396062   \ntemperature 0                       fgsm            75.803202      0.484561   \n            25                      fgsm            106.615432     0.532174   \n            50                      fgsm            136.593971     0.446306   \n            75                      fgsm            162.841787     0.406917   \n            100                     fgsm            184.782557     0.381837   \n            0                       pgd             88.008097      0.461815   \n            25                      pgd             466.159433     0.492696   \n            50                      pgd             834.821141     0.440757   \n            75                      pgd             1177.512111    0.380526   \n            100                     pgd             1575.491864    0.324054   \n\n                                                                        MAE  \\\ndataset     adv_training_percentage training_attack training_time             \nhousing     0                       fgsm            44.030864      0.834359   \n            25                      fgsm            85.850353      0.785905   \n            50                      fgsm            99.631434      0.627667   \n            75                      fgsm            189.086894     0.560230   \n            100                     fgsm            159.441691     0.711735   \n            0                       pgd             43.964837      1.333567   \n            25                      pgd             1445.435115    0.801715   \n            50                      pgd             1830.784020    0.700477   \n            75                      pgd             4437.860977    0.604168   \n            100                     pgd             4360.311604    0.658673   \ntemperature 0                       fgsm            75.803202      2.354300   \n            25                      fgsm            106.615432     2.212841   \n            50                      fgsm            136.593971     2.395792   \n            75                      fgsm            162.841787     2.456014   \n            100                     fgsm            184.782557     2.518902   \n            0                       pgd             88.008097      2.390408   \n            25                      pgd             466.159433     2.310330   \n            50                      pgd             834.821141     2.407238   \n            75                      pgd             1177.512111    2.530712   \n            100                     pgd             1575.491864    2.644868   \n\n                                                                         MSE  \ndataset     adv_training_percentage training_attack training_time             \nhousing     0                       fgsm            44.030864       1.195515  \n            25                      fgsm            85.850353       1.049142  \n            50                      fgsm            99.631434       1.550083  \n            75                      fgsm            189.086894      0.629795  \n            100                     fgsm            159.441691      1.225819  \n            0                       pgd             43.964837       4.781640  \n            25                      pgd             1445.435115     1.385227  \n            50                      pgd             1830.784020     1.050969  \n            75                      pgd             4437.860977     0.886941  \n            100                     pgd             4360.311604     0.789184  \ntemperature 0                       fgsm            75.803202       8.216707  \n            25                      fgsm            106.615432      7.457703  \n            50                      fgsm            136.593971      8.826537  \n            75                      fgsm            162.841787      9.454453  \n            100                     fgsm            184.782557      9.854250  \n            0                       pgd             88.008097       8.579309  \n            25                      pgd             466.159433      8.087039  \n            50                      pgd             834.821141      8.915000  \n            75                      pgd             1177.512111     9.875153  \n            100                     pgd             1575.491864    10.775392  ",
      "text/html": "<div>\n<style scoped>\n    .dataframe tbody tr th:only-of-type {\n        vertical-align: middle;\n    }\n\n    .dataframe tbody tr th {\n        vertical-align: top;\n    }\n\n    .dataframe thead th {\n        text-align: right;\n    }\n</style>\n<table border=\"1\" class=\"dataframe\">\n  <thead>\n    <tr style=\"text-align: right;\">\n      <th></th>\n      <th></th>\n      <th></th>\n      <th></th>\n      <th>R2</th>\n      <th>MAE</th>\n      <th>MSE</th>\n    </tr>\n    <tr>\n      <th>dataset</th>\n      <th>adv_training_percentage</th>\n      <th>training_attack</th>\n      <th>training_time</th>\n      <th></th>\n      <th></th>\n      <th></th>\n    </tr>\n  </thead>\n  <tbody>\n    <tr>\n      <th rowspan=\"10\" valign=\"top\">housing</th>\n      <th>0</th>\n      <th>fgsm</th>\n      <th>44.030864</th>\n      <td>0.085109</td>\n      <td>0.834359</td>\n      <td>1.195515</td>\n    </tr>\n    <tr>\n      <th>25</th>\n      <th>fgsm</th>\n      <th>85.850353</th>\n      <td>0.197123</td>\n      <td>0.785905</td>\n      <td>1.049142</td>\n    </tr>\n    <tr>\n      <th>50</th>\n      <th>fgsm</th>\n      <th>99.631434</th>\n      <td>-0.186231</td>\n      <td>0.627667</td>\n      <td>1.550083</td>\n    </tr>\n    <tr>\n      <th>75</th>\n      <th>fgsm</th>\n      <th>189.086894</th>\n      <td>0.518037</td>\n      <td>0.560230</td>\n      <td>0.629795</td>\n    </tr>\n    <tr>\n      <th>100</th>\n      <th>fgsm</th>\n      <th>159.441691</th>\n      <td>0.061918</td>\n      <td>0.711735</td>\n      <td>1.225819</td>\n    </tr>\n    <tr>\n      <th>0</th>\n      <th>pgd</th>\n      <th>43.964837</th>\n      <td>-2.659243</td>\n      <td>1.333567</td>\n      <td>4.781640</td>\n    </tr>\n    <tr>\n      <th>25</th>\n      <th>pgd</th>\n      <th>1445.435115</th>\n      <td>-0.060072</td>\n      <td>0.801715</td>\n      <td>1.385227</td>\n    </tr>\n    <tr>\n      <th>50</th>\n      <th>pgd</th>\n      <th>1830.784020</th>\n      <td>0.195725</td>\n      <td>0.700477</td>\n      <td>1.050969</td>\n    </tr>\n    <tr>\n      <th>75</th>\n      <th>pgd</th>\n      <th>4437.860977</th>\n      <td>0.321251</td>\n      <td>0.604168</td>\n      <td>0.886941</td>\n    </tr>\n    <tr>\n      <th>100</th>\n      <th>pgd</th>\n      <th>4360.311604</th>\n      <td>0.396062</td>\n      <td>0.658673</td>\n      <td>0.789184</td>\n    </tr>\n    <tr>\n      <th rowspan=\"10\" valign=\"top\">temperature</th>\n      <th>0</th>\n      <th>fgsm</th>\n      <th>75.803202</th>\n      <td>0.484561</td>\n      <td>2.354300</td>\n      <td>8.216707</td>\n    </tr>\n    <tr>\n      <th>25</th>\n      <th>fgsm</th>\n      <th>106.615432</th>\n      <td>0.532174</td>\n      <td>2.212841</td>\n      <td>7.457703</td>\n    </tr>\n    <tr>\n      <th>50</th>\n      <th>fgsm</th>\n      <th>136.593971</th>\n      <td>0.446306</td>\n      <td>2.395792</td>\n      <td>8.826537</td>\n    </tr>\n    <tr>\n      <th>75</th>\n      <th>fgsm</th>\n      <th>162.841787</th>\n      <td>0.406917</td>\n      <td>2.456014</td>\n      <td>9.454453</td>\n    </tr>\n    <tr>\n      <th>100</th>\n      <th>fgsm</th>\n      <th>184.782557</th>\n      <td>0.381837</td>\n      <td>2.518902</td>\n      <td>9.854250</td>\n    </tr>\n    <tr>\n      <th>0</th>\n      <th>pgd</th>\n      <th>88.008097</th>\n      <td>0.461815</td>\n      <td>2.390408</td>\n      <td>8.579309</td>\n    </tr>\n    <tr>\n      <th>25</th>\n      <th>pgd</th>\n      <th>466.159433</th>\n      <td>0.492696</td>\n      <td>2.310330</td>\n      <td>8.087039</td>\n    </tr>\n    <tr>\n      <th>50</th>\n      <th>pgd</th>\n      <th>834.821141</th>\n      <td>0.440757</td>\n      <td>2.407238</td>\n      <td>8.915000</td>\n    </tr>\n    <tr>\n      <th>75</th>\n      <th>pgd</th>\n      <th>1177.512111</th>\n      <td>0.380526</td>\n      <td>2.530712</td>\n      <td>9.875153</td>\n    </tr>\n    <tr>\n      <th>100</th>\n      <th>pgd</th>\n      <th>1575.491864</th>\n      <td>0.324054</td>\n      <td>2.644868</td>\n      <td>10.775392</td>\n    </tr>\n  </tbody>\n</table>\n</div>"
     },
     "execution_count": 13,
     "metadata": {},
     "output_type": "execute_result"
    }
   ],
   "source": [
    "res1 = load_object(\"results\")\n",
    "res1 = res1[[\"dataset\",\"adv_training_percentage\",\"training_attack\",\"training_time\",\"R2\",\"MAE\",\"MSE\"]]\n",
    "res1 = res1.groupby(['dataset','adv_training_percentage','training_attack','training_time'])['R2', 'MAE', 'MSE'].mean()\n",
    "res1 = res1.sort_values(by=['dataset','training_attack'])\n",
    "res1.columns\n",
    "# res1 = res1[res1[\"dataset\"]==\"housing\"]\n",
    "# res1 = res1[res1[\"training_attack\"]==\"fgsm\"]\n",
    "# res1 = res1['R2', 'MAE', 'MSE']\n",
    "res1"
   ],
   "metadata": {
    "collapsed": false,
    "pycharm": {
     "name": "#%%\n"
    }
   }
  },
  {
   "cell_type": "code",
   "execution_count": null,
   "outputs": [],
   "source": [
    "housing_fgsm_r2 = []\n",
    "housing_fgsm_mae = []\n",
    "housing_fgsm_mse = []\n",
    "\n",
    "temperature_fgsm_r2 = []\n",
    "temperature_fgsm_mae = []\n",
    "temperature_fgsm_mse = []\n",
    "\n",
    "housing_pgd_r2 = []\n",
    "housing_pgd_mae = []\n",
    "housing_pgd_mse = []\n",
    "\n",
    "temperature_pgd_r2 = []\n",
    "temperature_pgd_mae = []\n",
    "temperature_pgd_mse = []\n",
    "\n"
   ],
   "metadata": {
    "collapsed": false,
    "pycharm": {
     "name": "#%%\n"
    }
   }
  }
 ],
 "metadata": {
  "kernelspec": {
   "display_name": "Python 3",
   "language": "python",
   "name": "python3"
  },
  "language_info": {
   "codemirror_mode": {
    "name": "ipython",
    "version": 2
   },
   "file_extension": ".py",
   "mimetype": "text/x-python",
   "name": "python",
   "nbconvert_exporter": "python",
   "pygments_lexer": "ipython2",
   "version": "2.7.6"
  }
 },
 "nbformat": 4,
 "nbformat_minor": 0
}