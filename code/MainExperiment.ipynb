{
 "cells": [
  {
   "cell_type": "markdown",
   "source": [
    "# Imports"
   ],
   "metadata": {
    "collapsed": false,
    "pycharm": {
     "name": "#%% md\n"
    }
   }
  },
  {
   "cell_type": "code",
   "execution_count": 22,
   "outputs": [],
   "source": [
    "import pandas as pd\n",
    "import numpy as np\n",
    "from numpy.linalg import norm\n",
    "import random\n",
    "import tensorflow as tf\n",
    "from sklearn.model_selection import train_test_split\n",
    "import pickle\n",
    "import time\n",
    "from tensorflow.keras.models import Sequential\n",
    "from tensorflow.keras.layers import Dense\n",
    "from tensorflow.keras.layers import LSTM\n",
    "from keras.models import load_model\n",
    "from sklearn.metrics import mean_absolute_error,r2_score,mean_squared_error\n",
    "from tensorflow.keras.losses import MSE\n",
    "tf.random.set_seed(7)"
   ],
   "metadata": {
    "collapsed": false,
    "pycharm": {
     "name": "#%%\n"
    }
   }
  },
  {
   "cell_type": "markdown",
   "source": [
    "# Utils"
   ],
   "metadata": {
    "collapsed": false,
    "pycharm": {
     "name": "#%% md\n"
    }
   }
  },
  {
   "cell_type": "code",
   "execution_count": 23,
   "outputs": [],
   "source": [
    "def score(model, x_test, y_test):\n",
    "    y_pred = model.predict(x_test)\n",
    "    r2 = r2_score(y_test, y_pred)\n",
    "    mae = mean_absolute_error(y_test, y_pred)\n",
    "    mse = mean_squared_error(y_test, y_pred)\n",
    "    print(f\"r2:{r2}; mae:{mae}; mse:{mse}\")\n",
    "    return [r2, mae, mse]\n",
    "\n",
    "def sample_3Darray(a, perc):\n",
    "    l = a.shape[0]\n",
    "    # list of indexes\n",
    "    b = random.sample(list(range(l)), int(l*perc))\n",
    "    res = a[b,:,:]\n",
    "    return res\n",
    "\n",
    "def save_object(obj, filename):\n",
    "    with open(filename, 'wb') as outp:  # Overwrites any existing file.\n",
    "        pickle.dump(obj, outp)\n",
    "\n",
    "def load_object(filename):\n",
    "    with open(filename, 'rb') as inp:\n",
    "        return pickle.load(inp)"
   ],
   "metadata": {
    "collapsed": false,
    "pycharm": {
     "name": "#%%\n"
    }
   }
  },
  {
   "cell_type": "markdown",
   "source": [
    "# Load Datasets"
   ],
   "metadata": {
    "collapsed": false
   }
  },
  {
   "cell_type": "markdown",
   "source": [
    "## California Housing Prices"
   ],
   "metadata": {
    "collapsed": false,
    "pycharm": {
     "name": "#%% md\n"
    }
   }
  },
  {
   "cell_type": "code",
   "execution_count": 24,
   "outputs": [
    {
     "name": "stdout",
     "output_type": "stream",
     "text": [
      "<class 'pandas.core.frame.DataFrame'> <class 'pandas.core.series.Series'> <class 'pandas.core.frame.DataFrame'> <class 'pandas.core.series.Series'>\n",
      "(14448, 8) (14448,) (6192, 8) (6192,)\n"
     ]
    }
   ],
   "source": [
    "from sklearn.datasets import fetch_california_housing\n",
    "housing = fetch_california_housing()\n",
    "data = pd.DataFrame(housing.data)\n",
    "data.columns = housing.feature_names\n",
    "data['PRICE'] = housing.target\n",
    "\n",
    "x_housing = data.drop(['PRICE'], axis = 1)\n",
    "y_housing = data['PRICE']\n",
    "\n",
    "x_housing_train, x_housing_test, y_housing_train, y_housing_test = train_test_split(x_housing,y_housing, test_size = 0.3, random_state = 4)\n",
    "print(f\"{type(x_housing_train)} {type(y_housing_train)} {type(x_housing_test)} {type(y_housing_test)}\")\n",
    "print(f\"{x_housing_train.shape} {y_housing_train.shape} {x_housing_test.shape} {y_housing_test.shape}\")"
   ],
   "metadata": {
    "collapsed": false,
    "pycharm": {
     "name": "#%%\n"
    }
   }
  },
  {
   "cell_type": "markdown",
   "source": [
    "## Daily minimum temperatures in Melbourne"
   ],
   "metadata": {
    "collapsed": false,
    "pycharm": {
     "name": "#%% md\n"
    }
   }
  },
  {
   "cell_type": "code",
   "execution_count": 25,
   "outputs": [],
   "source": [
    "# https://www.kaggle.com/datasets/paulbrabban/daily-minimum-temperatures-in-melbourne\n",
    "temperature_df = pd.read_csv(\"datasets/temperature.csv\", usecols=[1])\n",
    "dataset = temperature_df.values\n",
    "dataset = dataset.astype('float32')"
   ],
   "metadata": {
    "collapsed": false,
    "pycharm": {
     "name": "#%%\n"
    }
   }
  },
  {
   "cell_type": "code",
   "execution_count": 26,
   "outputs": [],
   "source": [
    "test_split = 0.3\n",
    "train_size = int(len(dataset) * (1-test_split))\n",
    "test_size = len(dataset) - train_size\n",
    "train, test = dataset[0:train_size,:], dataset[train_size:len(dataset),:]"
   ],
   "metadata": {
    "collapsed": false,
    "pycharm": {
     "name": "#%%\n"
    }
   }
  },
  {
   "cell_type": "code",
   "execution_count": 27,
   "outputs": [],
   "source": [
    "def create_dataset(dataset, look_back=1):\n",
    "    dataX, dataY = [], []\n",
    "    for i in range(len(dataset)-look_back-1):\n",
    "        a = dataset[i:(i+look_back), 0]\n",
    "        dataX.append(a)\n",
    "        dataY.append(dataset[i + look_back, 0])\n",
    "    return np.array(dataX), np.array(dataY)"
   ],
   "metadata": {
    "collapsed": false,
    "pycharm": {
     "name": "#%%\n"
    }
   }
  },
  {
   "cell_type": "code",
   "execution_count": 28,
   "outputs": [
    {
     "name": "stdout",
     "output_type": "stream",
     "text": [
      "<class 'numpy.ndarray'> <class 'numpy.ndarray'> <class 'numpy.ndarray'> <class 'numpy.ndarray'>\n",
      "(2544, 1, 10) (2544,) (1084, 1, 10) (1084,)\n"
     ]
    }
   ],
   "source": [
    "look_back = 10\n",
    "x_temperature_train, y_temperature_train = create_dataset(train, look_back)\n",
    "x_temperature_test, y_temperature_test = create_dataset(test, look_back)\n",
    "\n",
    "x_temperature_train = np.reshape(x_temperature_train, (x_temperature_train.shape[0], 1, x_temperature_train.shape[1]))\n",
    "x_temperature_test = np.reshape(x_temperature_test, (x_temperature_test.shape[0], 1, x_temperature_test.shape[1]))\n",
    "\n",
    "print(f\"{type(x_temperature_train)} {type(y_temperature_train)} {type(x_temperature_test)} {type(y_temperature_test)}\")\n",
    "print(f\"{x_temperature_train.shape} {y_temperature_train.shape} {x_temperature_test.shape} {y_temperature_test.shape}\")"
   ],
   "metadata": {
    "collapsed": false,
    "pycharm": {
     "name": "#%%\n"
    }
   }
  },
  {
   "cell_type": "markdown",
   "source": [
    "# Generate Training adversarial examples"
   ],
   "metadata": {
    "collapsed": false,
    "pycharm": {
     "name": "#%% md\n"
    }
   }
  },
  {
   "cell_type": "markdown",
   "source": [
    "## FGSM"
   ],
   "metadata": {
    "collapsed": false,
    "pycharm": {
     "name": "#%% md\n"
    }
   }
  },
  {
   "cell_type": "code",
   "execution_count": 29,
   "outputs": [],
   "source": [
    "def fgsm(model, x, y, r):\n",
    "    x = tf.cast(x, tf.float32)\n",
    "    with tf.GradientTape() as tape:\n",
    "        tape.watch(x)\n",
    "        pred = model(x)\n",
    "        loss = MSE(y, pred)\n",
    "    gradient = tape.gradient(loss, x)\n",
    "    signedGrad = tf.sign(gradient)\n",
    "    x_f = (x + (signedGrad * r)).numpy()\n",
    "    return x_f"
   ],
   "metadata": {
    "collapsed": false,
    "pycharm": {
     "name": "#%%\n"
    }
   }
  },
  {
   "cell_type": "markdown",
   "source": [
    "## PGD"
   ],
   "metadata": {
    "collapsed": false,
    "pycharm": {
     "name": "#%% md\n"
    }
   }
  },
  {
   "cell_type": "code",
   "execution_count": 30,
   "outputs": [],
   "source": [
    "# suited for housing dataset\n",
    "def pgd1(model, x, y, r, lr, iter):\n",
    "    x = tf.cast(x, tf.float32)\n",
    "    x_f = x\n",
    "    for i in range(iter):\n",
    "        with tf.GradientTape() as tape:\n",
    "            tape.watch(x_f)\n",
    "            y_pred = model(x_f)\n",
    "            loss = MSE(y, y_pred)\n",
    "        loss_gradient = tape.gradient(loss, x_f)\n",
    "        x_f = (x_f + (loss_gradient * lr))\n",
    "        if norm(x_f[0,:]-x[0,:],2)>r:\n",
    "            x_f = x_f-((x_f-x)/norm(x_f[0,:]-x[0,:]))*abs(norm(x_f[0,:]-x[0,:])-r)\n",
    "    return x_f"
   ],
   "metadata": {
    "collapsed": false,
    "pycharm": {
     "name": "#%%\n"
    }
   }
  },
  {
   "cell_type": "code",
   "execution_count": 31,
   "outputs": [],
   "source": [
    "# suited for temperature dataset\n",
    "def pgd2(model, x, y, r, lr, iter):\n",
    "    x = tf.cast(x, tf.float32)\n",
    "    x_f = x\n",
    "    for i in range(iter):\n",
    "        with tf.GradientTape() as tape:\n",
    "            tape.watch(x_f)\n",
    "            y_pred = model(x_f)\n",
    "            loss = MSE(y, y_pred)\n",
    "        loss_gradient = tape.gradient(loss, x_f)\n",
    "        x_f = (x_f + (loss_gradient * lr))\n",
    "        if norm(x_f[0,0,:]-x[0,0,:],2)>r:\n",
    "            x_f = x_f-((x_f-x)/norm(x_f[0,0,:]-x[0,0,:]))*abs(norm(x_f[0,0,:]-x[0,0,:])-r)\n",
    "    return x_f"
   ],
   "metadata": {
    "collapsed": false,
    "pycharm": {
     "name": "#%%\n"
    }
   }
  },
  {
   "cell_type": "markdown",
   "source": [
    "## Prepare adversarial training set"
   ],
   "metadata": {
    "collapsed": false,
    "pycharm": {
     "name": "#%% md\n"
    }
   }
  },
  {
   "cell_type": "code",
   "execution_count": 32,
   "outputs": [],
   "source": [
    "# common parameters\n",
    "percentages = [0, 25, 50, 75, 100]\n",
    "attacks = ['fgsm', 'pgd']\n",
    "\n",
    "r=0.5\n",
    "lr=0.01\n",
    "iterations=50"
   ],
   "metadata": {
    "collapsed": false,
    "pycharm": {
     "name": "#%%\n"
    }
   }
  },
  {
   "cell_type": "code",
   "execution_count": 33,
   "outputs": [],
   "source": [
    "# # housing adversarial training sets\n",
    "# m = load_model('models/model_housing_plain.h5')\n",
    "#\n",
    "# for p in percentages:\n",
    "#     # qui c'è p% del training set campionato a caso\n",
    "#     adv = x_housing_train.sample(frac=p / 100, random_state=1)\n",
    "#     for a in attacks:\n",
    "#         st = time.time()\n",
    "#         x_housing_train_adv = x_housing_train.copy(deep=True)\n",
    "#         y_housing_train_adv = y_housing_train.copy(deep=True)\n",
    "#         # per ogni x del subset creo x_fooled\n",
    "#         c = 0\n",
    "#         for i, x in adv.iterrows():\n",
    "#             print(f\"Processing p:{p}%,\\tattack:{a},\\tx_{c}/{adv.shape[0]} ...\")\n",
    "#             x = np.expand_dims(x, 0)\n",
    "#             if a == 'fgsm':\n",
    "#                 x_f = fgsm(m, x, y_housing_train[i], r)\n",
    "#             elif a == 'pgd':\n",
    "#                 x_f = pgd1(m, x, y_housing_train[i], r, lr, iterations)\n",
    "#\n",
    "#             # ogni volta che creo un x_fooled lo aggiungo a un nuovo adversarial training set\n",
    "#             # e aggiorno il rispettivo set di labels\n",
    "#             x_housing_train_adv = np.append(x_housing_train_adv, x_f, 0)\n",
    "#             y_housing_train_adv = np.append(y_housing_train_adv, y_housing_train[i])\n",
    "#             c = c+1\n",
    "#\n",
    "#         et = time.time()\n",
    "#         elapsed_time = et - st\n",
    "#         # aggiungo la coppia x y adversarial training set al set degli adversarial training set\n",
    "#         x_adv_name = f\"x_housing_train_adv_{a}_{p}\"\n",
    "#         y_adv_name = f\"y_housing_train_adv_{a}_{p}\"\n",
    "#         t_adv_name = f\"housing_train_adv_{a}_{p}\"\n",
    "#\n",
    "#         x_adv_training_sets[x_adv_name] = x_housing_train_adv\n",
    "#         y_adv_training_sets[y_adv_name] = y_housing_train_adv\n",
    "#         t_adv_training_sets[t_adv_name] = elapsed_time\n",
    "#\n",
    "#         save_object(x_housing_train_adv,f\"adv_training_sets/{x_adv_name}\")\n",
    "#         save_object(y_housing_train_adv,f\"adv_training_sets/{y_adv_name}\")\n",
    "#         save_object(elapsed_time,f\"adv_training_sets/{t_adv_name}\")\n"
   ],
   "metadata": {
    "collapsed": false,
    "pycharm": {
     "name": "#%%\n"
    }
   }
  },
  {
   "cell_type": "code",
   "execution_count": 34,
   "outputs": [],
   "source": [
    "# # temperature adversarial training sets\n",
    "# m = load_model('models/model_temperature_plain.h5')\n",
    "#\n",
    "# for p in percentages:\n",
    "#     # qui c'è p% del training set campionato a caso\n",
    "#     adv = sample_3Darray(x_temperature_train, p/100)\n",
    "#     for a in attacks:\n",
    "#         st = time.time()\n",
    "#         x_temperature_train_adv = np.copy(x_temperature_train)\n",
    "#         y_temperature_train_adv = np.copy(y_temperature_train)\n",
    "#         # per ogni x del subset creo x_fooled\n",
    "#         for i in range(adv.shape[0]):\n",
    "#             print(f\"Processing p:{p}%,\\tattack:{a},\\tx_{i}/{adv.shape[0]} ...\")\n",
    "#             x = np.expand_dims(adv[i], 0)\n",
    "#             if a == 'fgsm':\n",
    "#                 x_f = fgsm(m, x, y_temperature_train[i], r)\n",
    "#             elif a == 'pgd':\n",
    "#                 x_f = pgd2(m, x, y_temperature_train[i], r, lr, iterations)\n",
    "#\n",
    "#             # ogni volta che creo un x_fooled lo aggiungo a un nuovo adversarial training set\n",
    "#             # e aggiorno il rispettivo set di labels\n",
    "#             x_temperature_train_adv = np.append(x_temperature_train_adv, x_f, 0)\n",
    "#             y_temperature_train_adv = np.append(y_temperature_train_adv, y_temperature_train[i])\n",
    "#\n",
    "#         et = time.time()\n",
    "#         elapsed_time = et - st\n",
    "#         # aggiungo la coppia x y adversarial training set al set degli adversarial training set\n",
    "#         x_adv_name = f\"x_temperature_train_adv_{a}_{p}\"\n",
    "#         y_adv_name = f\"y_temperature_train_adv_{a}_{p}\"\n",
    "#         t_adv_name = f\"temperature_train_adv_{a}_{p}\"\n",
    "#\n",
    "#         x_adv_training_sets[x_adv_name] = x_temperature_train_adv\n",
    "#         y_adv_training_sets[y_adv_name] = y_temperature_train_adv\n",
    "#         t_adv_training_sets[t_adv_name] = elapsed_time\n",
    "#\n",
    "#         save_object(x_temperature_train_adv,f\"adv_training_sets/{x_adv_name}\")\n",
    "#         save_object(y_temperature_train_adv,f\"adv_training_sets/{y_adv_name}\")\n",
    "#         save_object(elapsed_time,f\"adv_training_sets/{t_adv_name}\")"
   ],
   "metadata": {
    "collapsed": false,
    "pycharm": {
     "name": "#%%\n"
    }
   }
  },
  {
   "cell_type": "markdown",
   "source": [
    "# Train models with adversarial training set"
   ],
   "metadata": {
    "collapsed": false,
    "pycharm": {
     "name": "#%% md\n"
    }
   }
  },
  {
   "cell_type": "code",
   "execution_count": 35,
   "outputs": [],
   "source": [
    "# # train housing models\n",
    "# housing_epochs=10\n",
    "# housing_validation_split=0.2\n",
    "# housing_batch_size=8\n",
    "#\n",
    "# for p in percentages:\n",
    "#     for a in attacks:\n",
    "#\n",
    "#         st = time.time()\n",
    "#\n",
    "#         x_train = load_object(f\"adv_training_sets/x_housing_train_adv_{a}_{p}\")\n",
    "#         y_train = load_object(f\"adv_training_sets/y_housing_train_adv_{a}_{p}\")\n",
    "#\n",
    "#         model_housing = Sequential()\n",
    "#         model_housing.add(Dense(15, input_dim=8, activation='relu'))\n",
    "#         model_housing.add(Dense(1, activation='linear'))\n",
    "#         model_housing.compile(loss='mse', optimizer='adam')\n",
    "#         model_housing.fit(\n",
    "#             x_train,\n",
    "#             y_train,\n",
    "#             epochs=housing_epochs,\n",
    "#             validation_split=housing_validation_split,\n",
    "#             batch_size=housing_batch_size\n",
    "#         )\n",
    "#         et = time.time()\n",
    "#         elapsed_time = et - st\n",
    "#\n",
    "#         model_name = f\"model_housing_{a}_{p}.h5\"\n",
    "#         model_training_time_name = f\"model_housing_{a}_{p}\"\n",
    "#         model_housing.save(f\"models/{model_name}\")\n",
    "#         save_object(elapsed_time,f\"models/{model_training_time_name}\")\n",
    "# print(\"Job terminated.\")"
   ],
   "metadata": {
    "collapsed": false,
    "pycharm": {
     "name": "#%%\n"
    }
   }
  },
  {
   "cell_type": "code",
   "execution_count": 36,
   "outputs": [],
   "source": [
    "# # train temperature models\n",
    "#\n",
    "# temperature_epochs=10\n",
    "# temperature_validation_split=0.2\n",
    "# temperature_batch_size=1\n",
    "#\n",
    "#\n",
    "# for p in percentages:\n",
    "#     for a in attacks:\n",
    "#\n",
    "#         st = time.time()\n",
    "#\n",
    "#         x_train = load_object(f\"adv_training_sets/x_temperature_train_adv_{a}_{p}\")\n",
    "#         y_train = load_object(f\"adv_training_sets/y_temperature_train_adv_{a}_{p}\")\n",
    "#\n",
    "#         model_temperature = Sequential()\n",
    "#         model_temperature.add(LSTM(4, input_shape=(1,look_back)))\n",
    "#         model_temperature.add(Dense(1))\n",
    "#         model_temperature.compile(loss='mean_squared_error', optimizer='adam')\n",
    "#         model_temperature.fit(\n",
    "#             x_train,\n",
    "#             y_train,\n",
    "#             epochs=temperature_epochs,\n",
    "#             validation_split=temperature_validation_split,\n",
    "#             batch_size=temperature_batch_size\n",
    "#         )\n",
    "#\n",
    "#         et = time.time()\n",
    "#         elapsed_time = et - st\n",
    "#\n",
    "#         model_name = f\"model_temperature_{a}_{p}.h5\"\n",
    "#         model_training_time_name = f\"model_temperature_{a}_{p}\"\n",
    "#         model_temperature.save(f\"models/{model_name}\")\n",
    "#         save_object(elapsed_time,f\"models/{model_training_time_name}\")\n",
    "# print(\"Job terminated.\")"
   ],
   "metadata": {
    "collapsed": false,
    "pycharm": {
     "name": "#%%\n"
    }
   }
  },
  {
   "cell_type": "markdown",
   "source": [
    "# Generate Test adversarial examples"
   ],
   "metadata": {
    "collapsed": false,
    "pycharm": {
     "name": "#%% md\n"
    }
   }
  },
  {
   "cell_type": "code",
   "execution_count": 37,
   "outputs": [],
   "source": [
    "attacks = ['fgsm', 'pgd']\n",
    "\n",
    "r=0.5\n",
    "lr=0.01\n",
    "iterations=50"
   ],
   "metadata": {
    "collapsed": false,
    "pycharm": {
     "name": "#%%\n"
    }
   }
  },
  {
   "cell_type": "code",
   "execution_count": 38,
   "outputs": [],
   "source": [
    "# # housing adversarial test sets\n",
    "# m = load_model('models/model_housing_plain.h5')\n",
    "#\n",
    "# adv = x_housing_test.copy(deep=True)\n",
    "# for a in attacks:\n",
    "#     x_housing_test_adv = []\n",
    "#     y_housing_test_adv = []\n",
    "#     # per ogni x del subset creo x_fooled\n",
    "#     c = 0\n",
    "#     for i, x in adv.iterrows():\n",
    "#         print(f\"Processing \\tattack:{a},\\tx_{c}/{adv.shape[0]} ...\")\n",
    "#         x = np.expand_dims(x, 0)\n",
    "#         if a == 'fgsm':\n",
    "#             x_f = fgsm(m, x, y_housing_test[i], r)\n",
    "#         elif a == 'pgd':\n",
    "#             x_f = pgd1(m, x, y_housing_test[i], r, lr, iterations)\n",
    "#\n",
    "#         # ogni volta che creo un x_fooled lo aggiungo a un nuovo adversarial training set\n",
    "#         # e aggiorno il rispettivo set di labels\n",
    "#         x_housing_test_adv.append(x_f)\n",
    "#         y_housing_test_adv.append(y_housing_test[i])\n",
    "#         c = c+1\n",
    "#\n",
    "#     # aggiungo la coppia x y adversarial training set al set degli adversarial training set\n",
    "#     x_adv_name = f\"x_housing_test_adv_{a}\"\n",
    "#     y_adv_name = f\"y_housing_test_adv_{a}\"\n",
    "#\n",
    "#     x_adv_test_sets[x_adv_name] = pd.DataFrame(np.squeeze(x_housing_test_adv))\n",
    "#     y_adv_test_sets[y_adv_name] = pd.DataFrame(y_housing_test_adv)\n"
   ],
   "metadata": {
    "collapsed": false,
    "pycharm": {
     "name": "#%%\n"
    }
   }
  },
  {
   "cell_type": "code",
   "execution_count": 39,
   "outputs": [],
   "source": [
    "# # temperature adversarial test sets\n",
    "# m = load_model('models/model_temperature_plain.h5')\n",
    "# type(x_temperature_test)\n",
    "# adv = np.copy(x_temperature_test)\n",
    "#\n",
    "# for a in attacks:\n",
    "#     x_temperature_test_adv = []\n",
    "#     y_temperature_test_adv = []\n",
    "#     # per ogni x del subset creo x_fooled\n",
    "#     for i in range(adv.shape[0]):\n",
    "#         print(f\"Processing \\tattack:{a},\\tx_{i}/{adv.shape[0]} ...\")\n",
    "#         x = np.expand_dims(adv[i], 0)\n",
    "#         if a == 'fgsm':\n",
    "#             x_f = fgsm(m, x, y_temperature_test[i], r)\n",
    "#         elif a == 'pgd':\n",
    "#             x_f = pgd2(m, x, y_temperature_test[i], r, lr, iterations)\n",
    "#\n",
    "#         # ogni volta che creo un x_fooled lo aggiungo a un nuovo adversarial training set\n",
    "#         # e aggiorno il rispettivo set di labels\n",
    "#         x_temperature_test_adv.append(x_f)\n",
    "#         y_temperature_test_adv.append(y_temperature_test[i])\n",
    "#\n",
    "#     # aggiungo la coppia x y adversarial training set al set degli adversarial training set\n",
    "#     x_adv_name = f\"x_temperature_test_adv_{a}\"\n",
    "#     y_adv_name = f\"y_temperature_test_adv_{a}\"\n",
    "#\n",
    "#     x_adv_test_sets[x_adv_name] = np.squeeze(np.array(x_temperature_test_adv), axis=1)\n",
    "#     y_adv_test_sets[y_adv_name] = np.array(y_temperature_test_adv)\n"
   ],
   "metadata": {
    "collapsed": false,
    "pycharm": {
     "name": "#%%\n"
    }
   }
  },
  {
   "cell_type": "code",
   "execution_count": 40,
   "outputs": [],
   "source": [
    "# save_object(x_adv_test_sets,\"adv_test_sets/x_adv_test_sets\")\n",
    "# save_object(y_adv_test_sets,\"adv_test_sets/y_adv_test_sets\")"
   ],
   "metadata": {
    "collapsed": false,
    "pycharm": {
     "name": "#%%\n"
    }
   }
  },
  {
   "cell_type": "markdown",
   "source": [
    "# Test Models"
   ],
   "metadata": {
    "collapsed": false,
    "pycharm": {
     "name": "#%% md\n"
    }
   }
  },
  {
   "cell_type": "code",
   "execution_count": 41,
   "outputs": [
    {
     "name": "stdout",
     "output_type": "stream",
     "text": [
      "194/194 [==============================] - 0s 1ms/step\n",
      "r2:0.024904599662596394; mae:0.8722405255325493; mse:1.2741856358849204\n",
      "194/194 [==============================] - 0s 2ms/step\n",
      "r2:0.14531383457148217; mae:0.7964779364271202; mse:1.116843372250298\n",
      "194/194 [==============================] - 0s 1ms/step\n",
      "r2:-2.952390676021286; mae:1.4375039685750501; mse:5.16470432026366\n",
      "194/194 [==============================] - 0s 1ms/step\n",
      "r2:-2.3660961353089194; mae:1.2296297384256603; mse:4.398576122022802\n",
      "194/194 [==============================] - 0s 1ms/step\n",
      "r2:0.075440769837673; mae:0.8852450953921005; mse:1.2081485464807067\n",
      "194/194 [==============================] - 0s 1ms/step\n",
      "r2:0.3188060839368082; mae:0.686564726988061; mse:0.8901359834120661\n",
      "194/194 [==============================] - 0s 1ms/step\n",
      "r2:-0.21216953465419963; mae:0.9250486902510829; mse:1.5839773306070868\n",
      "194/194 [==============================] - 0s 1ms/step\n",
      "r2:0.09202487784118663; mae:0.6783813970240627; mse:1.1864776082374031\n",
      "194/194 [==============================] - 0s 1ms/step\n",
      "r2:-0.21438713308995894; mae:0.6509892061421915; mse:1.5868751312448786\n",
      "194/194 [==============================] - 0s 1ms/step\n",
      "r2:-0.1580750837401601; mae:0.6043442329571305; mse:1.51329053184678\n",
      "194/194 [==============================] - 0s 2ms/step\n",
      "r2:0.12689298902972745; mae:0.7554097323389756; mse:1.1409144290741093\n",
      "194/194 [==============================] - 0s 2ms/step\n",
      "r2:0.26455788547421244; mae:0.645543354793174; mse:0.9610236885840485\n",
      "194/194 [==============================] - 0s 2ms/step\n",
      "r2:0.531158580835116; mae:0.5485961895848924; mse:0.6126487742646374\n",
      "194/194 [==============================] - 0s 1ms/step\n",
      "r2:0.5049155638674548; mae:0.5718630313611751; mse:0.6469412909259894\n",
      "194/194 [==============================] - 0s 1ms/step\n",
      "r2:0.3367005455352393; mae:0.590171971505434; mse:0.8667527678592847\n",
      "194/194 [==============================] - 0s 1ms/step\n",
      "r2:0.30580123105889623; mae:0.6181635807317655; mse:0.9071298044557284\n",
      "194/194 [==============================] - 0s 1ms/step\n",
      "r2:0.0940884094341351; mae:0.6891230939596931; mse:1.183781131242414\n",
      "194/194 [==============================] - 0s 1ms/step\n",
      "r2:0.029747234147146195; mae:0.7343474644654426; mse:1.2678576239817576\n",
      "194/194 [==============================] - 0s 2ms/step\n",
      "r2:0.4006037088682163; mae:0.6554026224226298; mse:0.7832486381317599\n",
      "194/194 [==============================] - 0s 2ms/step\n",
      "r2:0.3915192990109081; mae:0.6619428063038969; mse:0.7951195017894782\n"
     ]
    }
   ],
   "source": [
    "# test house models\n",
    "for p in percentages:\n",
    "    for a1 in attacks:\n",
    "        for a2 in attacks:\n",
    "            m = load_model(f\"models/model_housing_{a1}_{p}.h5\")\n",
    "            x_test = load_object(\"adv_test_sets/x_adv_test_sets\")[f\"x_housing_test_adv_{a2}\"]\n",
    "            y_test = load_object(\"adv_test_sets/y_adv_test_sets\")[f\"y_housing_test_adv_{a2}\"]\n",
    "            r = score(m,x_test, y_test)\n",
    "            save_object(r,f\"scores/score_housing_{p}_train_{a1}_test_{a2}\")"
   ],
   "metadata": {
    "collapsed": false,
    "pycharm": {
     "name": "#%%\n"
    }
   }
  },
  {
   "cell_type": "code",
   "execution_count": 42,
   "outputs": [
    {
     "name": "stdout",
     "output_type": "stream",
     "text": [
      "34/34 [==============================] - 1s 1ms/step\n",
      "r2:0.4576411900087728; mae:2.4420413970947266; mse:8.645846366882324\n",
      "34/34 [==============================] - 1s 1ms/step\n",
      "r2:0.5114815474342751; mae:2.2665579319000244; mse:7.787567138671875\n",
      "34/34 [==============================] - 1s 1ms/step\n",
      "r2:0.44169495501480494; mae:2.4551479816436768; mse:8.900049209594727\n",
      "34/34 [==============================] - 1s 1ms/step\n",
      "r2:0.4819354757527017; mae:2.3256683349609375; mse:8.258567810058594\n",
      "34/34 [==============================] - 1s 1ms/step\n",
      "r2:0.5048322042220003; mae:2.3013525009155273; mse:7.893565654754639\n",
      "34/34 [==============================] - 1s 1ms/step\n",
      "r2:0.5595159714817654; mae:2.1243302822113037; mse:7.021841049194336\n",
      "34/34 [==============================] - 1s 1ms/step\n",
      "r2:0.46530772483132254; mae:2.397505521774292; mse:8.52363395690918\n",
      "34/34 [==============================] - 1s 979us/step\n",
      "r2:0.520083421031156; mae:2.223153591156006; mse:7.650443077087402\n",
      "34/34 [==============================] - 1s 1ms/step\n",
      "r2:0.43790681298581813; mae:2.418644905090332; mse:8.960436820983887\n",
      "34/34 [==============================] - 1s 1ms/step\n",
      "r2:0.454706034461393; mae:2.372938871383667; mse:8.692636489868164\n",
      "34/34 [==============================] - 0s 1ms/step\n",
      "r2:0.43155628802599; mae:2.4302589893341064; mse:9.061671257019043\n",
      "34/34 [==============================] - 1s 1ms/step\n",
      "r2:0.44995786516287684; mae:2.384216547012329; mse:8.768328666687012\n",
      "34/34 [==============================] - 1s 1ms/step\n",
      "r2:0.400219938732727; mae:2.469149589538574; mse:9.561209678649902\n",
      "34/34 [==============================] - 1s 1ms/step\n",
      "r2:0.41361386014236057; mae:2.442878246307373; mse:9.347696304321289\n",
      "34/34 [==============================] - 1s 1ms/step\n",
      "r2:0.36204328826976606; mae:2.575749397277832; mse:10.169791221618652\n",
      "34/34 [==============================] - 0s 966us/step\n",
      "r2:0.3990089571618147; mae:2.4856746196746826; mse:9.580514907836914\n",
      "34/34 [==============================] - 1s 1ms/step\n",
      "r2:0.38377018674523533; mae:2.5114316940307617; mse:9.82343864440918\n",
      "34/34 [==============================] - 0s 999us/step\n",
      "r2:0.37990460188119635; mae:2.5263726711273193; mse:9.885061264038086\n",
      "34/34 [==============================] - 1s 1ms/step\n",
      "r2:0.3073635773691358; mae:2.6833972930908203; mse:11.041451454162598\n",
      "34/34 [==============================] - 0s 1ms/step\n",
      "r2:0.34074376983926125; mae:2.606337785720825; mse:10.509331703186035\n"
     ]
    }
   ],
   "source": [
    "# test temperature models\n",
    "for p in percentages:\n",
    "    for a1 in attacks:\n",
    "        for a2 in attacks:\n",
    "            m = load_model(f\"models/model_temperature_{a1}_{p}.h5\")\n",
    "            x_test = load_object(\"adv_test_sets/x_adv_test_sets\")[f\"x_temperature_test_adv_{a2}\"]\n",
    "            y_test = load_object(\"adv_test_sets/y_adv_test_sets\")[f\"y_temperature_test_adv_{a2}\"]\n",
    "            r = score(m,x_test, y_test)\n",
    "            save_object(r,f\"scores/score_temperature_{p}_train_{a1}_test_{a2}\")"
   ],
   "metadata": {
    "collapsed": false,
    "pycharm": {
     "name": "#%%\n"
    }
   }
  },
  {
   "cell_type": "markdown",
   "source": [
    "# Final Analysis"
   ],
   "metadata": {
    "collapsed": false,
    "pycharm": {
     "name": "#%% md\n"
    }
   }
  },
  {
   "cell_type": "code",
   "execution_count": 69,
   "outputs": [],
   "source": [
    "percentages = [0, 25, 50, 75, 100]\n",
    "attacks = ['fgsm','pgd']\n",
    "datasets = ['housing','temperature']\n",
    "\n",
    "results = pd.DataFrame(columns=[\n",
    "    'dataset',\n",
    "    'training_attack',\n",
    "    'test_attack',\n",
    "    'adv_training_percentage',\n",
    "    'training_time',\n",
    "    'R2',\n",
    "    'MAE',\n",
    "    'MSE',\n",
    "    'R2/time',\n",
    "    'MAE/time',\n",
    "    'MSE/time'\n",
    "])"
   ],
   "metadata": {
    "collapsed": false,
    "pycharm": {
     "name": "#%%\n"
    }
   }
  },
  {
   "cell_type": "code",
   "execution_count": 73,
   "outputs": [
    {
     "name": "stdout",
     "output_type": "stream",
     "text": [
      "0\n",
      "44.030863523483276\n",
      "{'dataset': 'housing', 'training_attack': 'fgsm', 'test_attack': 'fgsm', 'adv_training_percentage': 0, 'training_time': 44.030863523483276, 'R2': 0.024904599662596394, 'MAE': 0.8722405255325493, 'MSE': 1.2741856358849204, 'R2/time': 0.0005656168802892965, 'MAE/time': 0.019809752880893452, 'MSE/time': 0.028938465746994727}\n",
      "1\n",
      "85.85035347938538\n",
      "{'dataset': 'housing', 'training_attack': 'fgsm', 'test_attack': 'fgsm', 'adv_training_percentage': 25, 'training_time': 85.85035347938538, 'R2': 0.075440769837673, 'MAE': 0.8852450953921005, 'MSE': 1.2081485464807067, 'R2/time': 0.000878747340927234, 'MAE/time': 0.01031149039595589, 'MSE/time': 0.014072726523727251}\n",
      "2\n",
      "99.63143372535706\n",
      "{'dataset': 'housing', 'training_attack': 'fgsm', 'test_attack': 'fgsm', 'adv_training_percentage': 50, 'training_time': 99.63143372535706, 'R2': -0.21438713308995894, 'MAE': 0.6509892061421915, 'MSE': 1.5868751312448786, 'R2/time': -0.002151802147913842, 'MAE/time': 0.006533974086297918, 'MSE/time': 0.015927454538285996}\n",
      "3\n",
      "189.08689379692078\n",
      "{'dataset': 'housing', 'training_attack': 'fgsm', 'test_attack': 'fgsm', 'adv_training_percentage': 75, 'training_time': 189.08689379692078, 'R2': 0.531158580835116, 'MAE': 0.5485961895848924, 'MSE': 0.6126487742646374, 'R2/time': 0.0028090713754364174, 'MAE/time': 0.00290129145690068, 'MSE/time': 0.003240038280615164}\n",
      "4\n",
      "159.44169116020203\n",
      "{'dataset': 'housing', 'training_attack': 'fgsm', 'test_attack': 'fgsm', 'adv_training_percentage': 100, 'training_time': 159.44169116020203, 'R2': 0.0940884094341351, 'MAE': 0.6891230939596931, 'MSE': 1.183781131242414, 'R2/time': 0.000590111712623507, 'MAE/time': 0.004322101007240846, 'MSE/time': 0.007424539482919733}\n",
      "5\n",
      "44.030863523483276\n",
      "{'dataset': 'housing', 'training_attack': 'fgsm', 'test_attack': 'pgd', 'adv_training_percentage': 0, 'training_time': 44.030863523483276, 'R2': 0.14531383457148217, 'MAE': 0.7964779364271202, 'MSE': 1.116843372250298, 'R2/time': 0.003300272194161738, 'MAE/time': 0.01808908280897851, 'MSE/time': 0.025365011786667422}\n",
      "6\n",
      "85.85035347938538\n",
      "{'dataset': 'housing', 'training_attack': 'fgsm', 'test_attack': 'pgd', 'adv_training_percentage': 25, 'training_time': 85.85035347938538, 'R2': 0.3188060839368082, 'MAE': 0.686564726988061, 'MSE': 0.8901359834120661, 'R2/time': 0.0037135092753387534, 'MAE/time': 0.007997226559502994, 'MSE/time': 0.010368460318871116}\n",
      "7\n",
      "99.63143372535706\n",
      "{'dataset': 'housing', 'training_attack': 'fgsm', 'test_attack': 'pgd', 'adv_training_percentage': 50, 'training_time': 99.63143372535706, 'R2': -0.1580750837401601, 'MAE': 0.6043442329571305, 'MSE': 1.51329053184678, 'R2/time': -0.0015865985044028193, 'MAE/time': 0.006065798818303261, 'MSE/time': 0.015188886431347566}\n",
      "8\n",
      "189.08689379692078\n",
      "{'dataset': 'housing', 'training_attack': 'fgsm', 'test_attack': 'pgd', 'adv_training_percentage': 75, 'training_time': 189.08689379692078, 'R2': 0.5049155638674548, 'MAE': 0.5718630313611751, 'MSE': 0.6469412909259894, 'R2/time': 0.002670283242421518, 'MAE/time': 0.0030243398676555325, 'MSE/time': 0.0034213967871343}\n",
      "9\n",
      "159.44169116020203\n",
      "{'dataset': 'housing', 'training_attack': 'fgsm', 'test_attack': 'pgd', 'adv_training_percentage': 100, 'training_time': 159.44169116020203, 'R2': 0.029747234147146195, 'MAE': 0.7343474644654426, 'MSE': 1.2678576239817576, 'R2/time': 0.00018657124075068362, 'MAE/time': 0.004605743072102724, 'MSE/time': 0.007951857602337232}\n",
      "10\n",
      "43.964836835861206\n",
      "{'dataset': 'housing', 'training_attack': 'pgd', 'test_attack': 'fgsm', 'adv_training_percentage': 0, 'training_time': 43.964836835861206, 'R2': -2.952390676021286, 'MAE': 1.4375039685750501, 'MSE': 5.16470432026366, 'R2/time': -0.06715345463566197, 'MAE/time': 0.03269667470714933, 'MSE/time': 0.11747352411532022}\n",
      "11\n",
      "1445.4351150989532\n",
      "{'dataset': 'housing', 'training_attack': 'pgd', 'test_attack': 'fgsm', 'adv_training_percentage': 25, 'training_time': 1445.4351150989532, 'R2': -0.21216953465419963, 'MAE': 0.9250486902510829, 'MSE': 1.5839773306070868, 'R2/time': -0.0001467859279450774, 'MAE/time': 0.0006399793948466202, 'MSE/time': 0.0010958481041874017}\n",
      "12\n",
      "1830.784019947052\n",
      "{'dataset': 'housing', 'training_attack': 'pgd', 'test_attack': 'fgsm', 'adv_training_percentage': 50, 'training_time': 1830.784019947052, 'R2': 0.12689298902972745, 'MAE': 0.7554097323389756, 'MSE': 1.1409144290741093, 'R2/time': 6.931073662823282e-05, 'MAE/time': 0.0004126154282037172, 'MSE/time': 0.0006231835195432314}\n",
      "13\n",
      "4437.860977172852\n",
      "{'dataset': 'housing', 'training_attack': 'pgd', 'test_attack': 'fgsm', 'adv_training_percentage': 75, 'training_time': 4437.860977172852, 'R2': 0.3367005455352393, 'MAE': 0.590171971505434, 'MSE': 0.8667527678592847, 'R2/time': 7.5870007480436e-05, 'MAE/time': 0.00013298568263880233, 'MSE/time': 0.00019530867963589327}\n",
      "14\n",
      "4360.311604261398\n",
      "{'dataset': 'housing', 'training_attack': 'pgd', 'test_attack': 'fgsm', 'adv_training_percentage': 100, 'training_time': 4360.311604261398, 'R2': 0.4006037088682163, 'MAE': 0.6554026224226298, 'MSE': 0.7832486381317599, 'R2/time': 9.187501839930436e-05, 'MAE/time': 0.00015031095983647017, 'MSE/time': 0.00017963134500898495}\n",
      "15\n",
      "43.964836835861206\n",
      "{'dataset': 'housing', 'training_attack': 'pgd', 'test_attack': 'pgd', 'adv_training_percentage': 0, 'training_time': 43.964836835861206, 'R2': -2.3660961353089194, 'MAE': 1.2296297384256603, 'MSE': 4.398576122022802, 'R2/time': -0.05381792144805468, 'MAE/time': 0.027968481789580456, 'MSE/time': 0.10004759345393441}\n",
      "16\n",
      "1445.4351150989532\n",
      "{'dataset': 'housing', 'training_attack': 'pgd', 'test_attack': 'pgd', 'adv_training_percentage': 25, 'training_time': 1445.4351150989532, 'R2': 0.09202487784118663, 'MAE': 0.6783813970240627, 'MSE': 1.1864776082374031, 'R2/time': 6.366586564827345e-05, 'MAE/time': 0.0004693267722208488, 'MSE/time': 0.0008208445995558769}\n",
      "17\n",
      "1830.784019947052\n",
      "{'dataset': 'housing', 'training_attack': 'pgd', 'test_attack': 'pgd', 'adv_training_percentage': 50, 'training_time': 1830.784019947052, 'R2': 0.26455788547421244, 'MAE': 0.645543354793174, 'MSE': 0.9610236885840485, 'R2/time': 0.00014450524070111977, 'MAE/time': 0.0003526048664177459, 'MSE/time': 0.0005249246651234384}\n",
      "18\n",
      "4437.860977172852\n",
      "{'dataset': 'housing', 'training_attack': 'pgd', 'test_attack': 'pgd', 'adv_training_percentage': 75, 'training_time': 4437.860977172852, 'R2': 0.30580123105889623, 'MAE': 0.6181635807317655, 'MSE': 0.9071298044557284, 'R2/time': 6.890734807418584e-05, 'MAE/time': 0.00013929313782280034, 'MSE/time': 0.0002044069900165321}\n",
      "19\n",
      "4360.311604261398\n",
      "{'dataset': 'housing', 'training_attack': 'pgd', 'test_attack': 'pgd', 'adv_training_percentage': 100, 'training_time': 4360.311604261398, 'R2': 0.3915192990109081, 'MAE': 0.6619428063038969, 'MSE': 0.7951195017894782, 'R2/time': 8.979158705728058e-05, 'MAE/time': 0.00015181089481241896, 'MSE/time': 0.00018235382558723462}\n",
      "20\n",
      "75.8032021522522\n",
      "{'dataset': 'temperature', 'training_attack': 'fgsm', 'test_attack': 'fgsm', 'adv_training_percentage': 0, 'training_time': 75.8032021522522, 'R2': 0.4576411900087728, 'MAE': 2.4420414, 'MSE': 8.645846, 'R2/time': 0.006037227676603841, 'MAE/time': 0.03221554403717457, 'MSE/time': 0.11405647942836207}\n",
      "21\n",
      "106.61543202400208\n",
      "{'dataset': 'temperature', 'training_attack': 'fgsm', 'test_attack': 'fgsm', 'adv_training_percentage': 25, 'training_time': 106.61543202400208, 'R2': 0.5048322042220003, 'MAE': 2.3013525, 'MSE': 7.8935657, 'R2/time': 0.004735076289034299, 'MAE/time': 0.021585547769458265, 'MSE/time': 0.07403774017421398}\n",
      "22\n",
      "136.59397053718567\n",
      "{'dataset': 'temperature', 'training_attack': 'fgsm', 'test_attack': 'fgsm', 'adv_training_percentage': 50, 'training_time': 136.59397053718567, 'R2': 0.43790681298581813, 'MAE': 2.418645, 'MSE': 8.960437, 'R2/time': 0.003205901484989812, 'MAE/time': 0.017706820407800444, 'MSE/time': 0.0655990655059298}\n",
      "23\n",
      "162.84178733825684\n",
      "{'dataset': 'temperature', 'training_attack': 'fgsm', 'test_attack': 'fgsm', 'adv_training_percentage': 75, 'training_time': 162.84178733825684, 'R2': 0.400219938732727, 'MAE': 2.4691496, 'MSE': 9.56121, 'R2/time': 0.0024577225862879135, 'MAE/time': 0.015162874529310024, 'MSE/time': 0.05871471834676714}\n",
      "24\n",
      "184.78255653381348\n",
      "{'dataset': 'temperature', 'training_attack': 'fgsm', 'test_attack': 'fgsm', 'adv_training_percentage': 100, 'training_time': 184.78255653381348, 'R2': 0.38377018674523533, 'MAE': 2.5114317, 'MSE': 9.823439, 'R2/time': 0.0020768745380736683, 'MAE/time': 0.013591281239640134, 'MSE/time': 0.053162153553231}\n",
      "25\n",
      "75.8032021522522\n",
      "{'dataset': 'temperature', 'training_attack': 'fgsm', 'test_attack': 'pgd', 'adv_training_percentage': 0, 'training_time': 75.8032021522522, 'R2': 0.5114815474342751, 'MAE': 2.266558, 'MSE': 7.787567, 'R2/time': 0.006747492624479828, 'MAE/time': 0.0299005565404427, 'MSE/time': 0.10273401277996667}\n",
      "26\n",
      "106.61543202400208\n",
      "{'dataset': 'temperature', 'training_attack': 'fgsm', 'test_attack': 'pgd', 'adv_training_percentage': 25, 'training_time': 106.61543202400208, 'R2': 0.5595159714817654, 'MAE': 2.1243303, 'MSE': 7.021841, 'R2/time': 0.005247982968880179, 'MAE/time': 0.01992516694706127, 'MSE/time': 0.06586139469578406}\n",
      "27\n",
      "136.59397053718567\n",
      "{'dataset': 'temperature', 'training_attack': 'fgsm', 'test_attack': 'pgd', 'adv_training_percentage': 50, 'training_time': 136.59397053718567, 'R2': 0.454706034461393, 'MAE': 2.3729389, 'MSE': 8.6926365, 'R2/time': 0.0033288880371012135, 'MAE/time': 0.017372208026837244, 'MSE/time': 0.06363850802259038}\n",
      "28\n",
      "162.84178733825684\n",
      "{'dataset': 'temperature', 'training_attack': 'fgsm', 'test_attack': 'pgd', 'adv_training_percentage': 75, 'training_time': 162.84178733825684, 'R2': 0.41361386014236057, 'MAE': 2.4428782, 'MSE': 9.347696, 'R2/time': 0.0025399737186819074, 'MAE/time': 0.015001544052283081, 'MSE/time': 0.05740354768339742}\n",
      "29\n",
      "184.78255653381348\n",
      "{'dataset': 'temperature', 'training_attack': 'fgsm', 'test_attack': 'pgd', 'adv_training_percentage': 100, 'training_time': 184.78255653381348, 'R2': 0.37990460188119635, 'MAE': 2.5263727, 'MSE': 9.885061, 'R2/time': 0.0020559548964335134, 'MAE/time': 0.013672138314987632, 'MSE/time': 0.05349564076536203}\n",
      "30\n",
      "88.00809741020203\n",
      "{'dataset': 'temperature', 'training_attack': 'pgd', 'test_attack': 'fgsm', 'adv_training_percentage': 0, 'training_time': 88.00809741020203, 'R2': 0.44169495501480494, 'MAE': 2.455148, 'MSE': 8.900049, 'R2/time': 0.0050187990425026845, 'MAE/time': 0.0278968419258098, 'MSE/time': 0.10112761747492362}\n",
      "31\n",
      "466.15943336486816\n",
      "{'dataset': 'temperature', 'training_attack': 'pgd', 'test_attack': 'fgsm', 'adv_training_percentage': 25, 'training_time': 466.15943336486816, 'R2': 0.46530772483132254, 'MAE': 2.3975055, 'MSE': 8.523634, 'R2/time': 0.0009981729243846945, 'MAE/time': 0.0051431020165535034, 'MSE/time': 0.018284804182515893}\n",
      "32\n",
      "834.821141242981\n",
      "{'dataset': 'temperature', 'training_attack': 'pgd', 'test_attack': 'fgsm', 'adv_training_percentage': 50, 'training_time': 834.821141242981, 'R2': 0.43155628802599, 'MAE': 2.430259, 'MSE': 9.061671, 'R2/time': 0.0005169446084983398, 'MAE/time': 0.002911113374196116, 'MSE/time': 0.010854625990337223}\n",
      "33\n",
      "1177.5121111869812\n",
      "{'dataset': 'temperature', 'training_attack': 'pgd', 'test_attack': 'fgsm', 'adv_training_percentage': 75, 'training_time': 1177.5121111869812, 'R2': 0.36204328826976606, 'MAE': 2.5757494, 'MSE': 10.169791, 'R2/time': 0.00030746459830872686, 'MAE/time': 0.002187450449814371, 'MSE/time': 0.008636676536063039}\n",
      "34\n",
      "1575.4918642044067\n",
      "{'dataset': 'temperature', 'training_attack': 'pgd', 'test_attack': 'fgsm', 'adv_training_percentage': 100, 'training_time': 1575.4918642044067, 'R2': 0.3073635773691358, 'MAE': 2.6833973, 'MSE': 11.041451, 'R2/time': 0.00019509055194286801, 'MAE/time': 0.0017032124088091592, 'MSE/time': 0.007008256726059528}\n",
      "35\n",
      "88.00809741020203\n",
      "{'dataset': 'temperature', 'training_attack': 'pgd', 'test_attack': 'pgd', 'adv_training_percentage': 0, 'training_time': 88.00809741020203, 'R2': 0.4819354757527017, 'MAE': 2.3256683, 'MSE': 8.258568, 'R2/time': 0.0054760356141596925, 'MAE/time': 0.026425617680621995, 'MSE/time': 0.09383872681130417}\n",
      "36\n",
      "466.15943336486816\n",
      "{'dataset': 'temperature', 'training_attack': 'pgd', 'test_attack': 'pgd', 'adv_training_percentage': 25, 'training_time': 466.15943336486816, 'R2': 0.520083421031156, 'MAE': 2.2231536, 'MSE': 7.650443, 'R2/time': 0.001115677134917231, 'MAE/time': 0.004769084206037977, 'MSE/time': 0.01641164487837215}\n",
      "37\n",
      "834.821141242981\n",
      "{'dataset': 'temperature', 'training_attack': 'pgd', 'test_attack': 'pgd', 'adv_training_percentage': 50, 'training_time': 834.821141242981, 'R2': 0.44995786516287684, 'MAE': 2.3842165, 'MSE': 8.768329, 'R2/time': 0.0005389871469868696, 'MAE/time': 0.002855960910935274, 'MSE/time': 0.010503242231781148}\n",
      "38\n",
      "1177.5121111869812\n",
      "{'dataset': 'temperature', 'training_attack': 'pgd', 'test_attack': 'pgd', 'adv_training_percentage': 75, 'training_time': 1177.5121111869812, 'R2': 0.3990089571618147, 'MAE': 2.4856746, 'MSE': 9.580515, 'R2/time': 0.00033885762479300284, 'MAE/time': 0.0021109546101984625, 'MSE/time': 0.008136234707751206}\n",
      "39\n",
      "1575.4918642044067\n",
      "{'dataset': 'temperature', 'training_attack': 'pgd', 'test_attack': 'pgd', 'adv_training_percentage': 100, 'training_time': 1575.4918642044067, 'R2': 0.34074376983926125, 'MAE': 2.6063378, 'MSE': 10.509332, 'R2/time': 0.00021627770830243565, 'MAE/time': 0.0016543010122346622, 'MSE/time': 0.0066705083929411765}\n"
     ]
    },
    {
     "name": "stderr",
     "output_type": "stream",
     "text": [
      "C:\\Users\\posta\\AppData\\Local\\Temp\\ipykernel_11304\\553589190.py:28: FutureWarning: The frame.append method is deprecated and will be removed from pandas in a future version. Use pandas.concat instead.\n",
      "  results = results.append(new_row, ignore_index=True)\n",
      "C:\\Users\\posta\\AppData\\Local\\Temp\\ipykernel_11304\\553589190.py:28: FutureWarning: The frame.append method is deprecated and will be removed from pandas in a future version. Use pandas.concat instead.\n",
      "  results = results.append(new_row, ignore_index=True)\n",
      "C:\\Users\\posta\\AppData\\Local\\Temp\\ipykernel_11304\\553589190.py:28: FutureWarning: The frame.append method is deprecated and will be removed from pandas in a future version. Use pandas.concat instead.\n",
      "  results = results.append(new_row, ignore_index=True)\n",
      "C:\\Users\\posta\\AppData\\Local\\Temp\\ipykernel_11304\\553589190.py:28: FutureWarning: The frame.append method is deprecated and will be removed from pandas in a future version. Use pandas.concat instead.\n",
      "  results = results.append(new_row, ignore_index=True)\n",
      "C:\\Users\\posta\\AppData\\Local\\Temp\\ipykernel_11304\\553589190.py:28: FutureWarning: The frame.append method is deprecated and will be removed from pandas in a future version. Use pandas.concat instead.\n",
      "  results = results.append(new_row, ignore_index=True)\n",
      "C:\\Users\\posta\\AppData\\Local\\Temp\\ipykernel_11304\\553589190.py:28: FutureWarning: The frame.append method is deprecated and will be removed from pandas in a future version. Use pandas.concat instead.\n",
      "  results = results.append(new_row, ignore_index=True)\n",
      "C:\\Users\\posta\\AppData\\Local\\Temp\\ipykernel_11304\\553589190.py:28: FutureWarning: The frame.append method is deprecated and will be removed from pandas in a future version. Use pandas.concat instead.\n",
      "  results = results.append(new_row, ignore_index=True)\n",
      "C:\\Users\\posta\\AppData\\Local\\Temp\\ipykernel_11304\\553589190.py:28: FutureWarning: The frame.append method is deprecated and will be removed from pandas in a future version. Use pandas.concat instead.\n",
      "  results = results.append(new_row, ignore_index=True)\n",
      "C:\\Users\\posta\\AppData\\Local\\Temp\\ipykernel_11304\\553589190.py:28: FutureWarning: The frame.append method is deprecated and will be removed from pandas in a future version. Use pandas.concat instead.\n",
      "  results = results.append(new_row, ignore_index=True)\n",
      "C:\\Users\\posta\\AppData\\Local\\Temp\\ipykernel_11304\\553589190.py:28: FutureWarning: The frame.append method is deprecated and will be removed from pandas in a future version. Use pandas.concat instead.\n",
      "  results = results.append(new_row, ignore_index=True)\n",
      "C:\\Users\\posta\\AppData\\Local\\Temp\\ipykernel_11304\\553589190.py:28: FutureWarning: The frame.append method is deprecated and will be removed from pandas in a future version. Use pandas.concat instead.\n",
      "  results = results.append(new_row, ignore_index=True)\n",
      "C:\\Users\\posta\\AppData\\Local\\Temp\\ipykernel_11304\\553589190.py:28: FutureWarning: The frame.append method is deprecated and will be removed from pandas in a future version. Use pandas.concat instead.\n",
      "  results = results.append(new_row, ignore_index=True)\n",
      "C:\\Users\\posta\\AppData\\Local\\Temp\\ipykernel_11304\\553589190.py:28: FutureWarning: The frame.append method is deprecated and will be removed from pandas in a future version. Use pandas.concat instead.\n",
      "  results = results.append(new_row, ignore_index=True)\n",
      "C:\\Users\\posta\\AppData\\Local\\Temp\\ipykernel_11304\\553589190.py:28: FutureWarning: The frame.append method is deprecated and will be removed from pandas in a future version. Use pandas.concat instead.\n",
      "  results = results.append(new_row, ignore_index=True)\n",
      "C:\\Users\\posta\\AppData\\Local\\Temp\\ipykernel_11304\\553589190.py:28: FutureWarning: The frame.append method is deprecated and will be removed from pandas in a future version. Use pandas.concat instead.\n",
      "  results = results.append(new_row, ignore_index=True)\n",
      "C:\\Users\\posta\\AppData\\Local\\Temp\\ipykernel_11304\\553589190.py:28: FutureWarning: The frame.append method is deprecated and will be removed from pandas in a future version. Use pandas.concat instead.\n",
      "  results = results.append(new_row, ignore_index=True)\n",
      "C:\\Users\\posta\\AppData\\Local\\Temp\\ipykernel_11304\\553589190.py:28: FutureWarning: The frame.append method is deprecated and will be removed from pandas in a future version. Use pandas.concat instead.\n",
      "  results = results.append(new_row, ignore_index=True)\n",
      "C:\\Users\\posta\\AppData\\Local\\Temp\\ipykernel_11304\\553589190.py:28: FutureWarning: The frame.append method is deprecated and will be removed from pandas in a future version. Use pandas.concat instead.\n",
      "  results = results.append(new_row, ignore_index=True)\n",
      "C:\\Users\\posta\\AppData\\Local\\Temp\\ipykernel_11304\\553589190.py:28: FutureWarning: The frame.append method is deprecated and will be removed from pandas in a future version. Use pandas.concat instead.\n",
      "  results = results.append(new_row, ignore_index=True)\n",
      "C:\\Users\\posta\\AppData\\Local\\Temp\\ipykernel_11304\\553589190.py:28: FutureWarning: The frame.append method is deprecated and will be removed from pandas in a future version. Use pandas.concat instead.\n",
      "  results = results.append(new_row, ignore_index=True)\n",
      "C:\\Users\\posta\\AppData\\Local\\Temp\\ipykernel_11304\\553589190.py:28: FutureWarning: The frame.append method is deprecated and will be removed from pandas in a future version. Use pandas.concat instead.\n",
      "  results = results.append(new_row, ignore_index=True)\n",
      "C:\\Users\\posta\\AppData\\Local\\Temp\\ipykernel_11304\\553589190.py:28: FutureWarning: The frame.append method is deprecated and will be removed from pandas in a future version. Use pandas.concat instead.\n",
      "  results = results.append(new_row, ignore_index=True)\n",
      "C:\\Users\\posta\\AppData\\Local\\Temp\\ipykernel_11304\\553589190.py:28: FutureWarning: The frame.append method is deprecated and will be removed from pandas in a future version. Use pandas.concat instead.\n",
      "  results = results.append(new_row, ignore_index=True)\n",
      "C:\\Users\\posta\\AppData\\Local\\Temp\\ipykernel_11304\\553589190.py:28: FutureWarning: The frame.append method is deprecated and will be removed from pandas in a future version. Use pandas.concat instead.\n",
      "  results = results.append(new_row, ignore_index=True)\n",
      "C:\\Users\\posta\\AppData\\Local\\Temp\\ipykernel_11304\\553589190.py:28: FutureWarning: The frame.append method is deprecated and will be removed from pandas in a future version. Use pandas.concat instead.\n",
      "  results = results.append(new_row, ignore_index=True)\n",
      "C:\\Users\\posta\\AppData\\Local\\Temp\\ipykernel_11304\\553589190.py:28: FutureWarning: The frame.append method is deprecated and will be removed from pandas in a future version. Use pandas.concat instead.\n",
      "  results = results.append(new_row, ignore_index=True)\n",
      "C:\\Users\\posta\\AppData\\Local\\Temp\\ipykernel_11304\\553589190.py:28: FutureWarning: The frame.append method is deprecated and will be removed from pandas in a future version. Use pandas.concat instead.\n",
      "  results = results.append(new_row, ignore_index=True)\n",
      "C:\\Users\\posta\\AppData\\Local\\Temp\\ipykernel_11304\\553589190.py:28: FutureWarning: The frame.append method is deprecated and will be removed from pandas in a future version. Use pandas.concat instead.\n",
      "  results = results.append(new_row, ignore_index=True)\n",
      "C:\\Users\\posta\\AppData\\Local\\Temp\\ipykernel_11304\\553589190.py:28: FutureWarning: The frame.append method is deprecated and will be removed from pandas in a future version. Use pandas.concat instead.\n",
      "  results = results.append(new_row, ignore_index=True)\n",
      "C:\\Users\\posta\\AppData\\Local\\Temp\\ipykernel_11304\\553589190.py:28: FutureWarning: The frame.append method is deprecated and will be removed from pandas in a future version. Use pandas.concat instead.\n",
      "  results = results.append(new_row, ignore_index=True)\n",
      "C:\\Users\\posta\\AppData\\Local\\Temp\\ipykernel_11304\\553589190.py:28: FutureWarning: The frame.append method is deprecated and will be removed from pandas in a future version. Use pandas.concat instead.\n",
      "  results = results.append(new_row, ignore_index=True)\n",
      "C:\\Users\\posta\\AppData\\Local\\Temp\\ipykernel_11304\\553589190.py:28: FutureWarning: The frame.append method is deprecated and will be removed from pandas in a future version. Use pandas.concat instead.\n",
      "  results = results.append(new_row, ignore_index=True)\n",
      "C:\\Users\\posta\\AppData\\Local\\Temp\\ipykernel_11304\\553589190.py:28: FutureWarning: The frame.append method is deprecated and will be removed from pandas in a future version. Use pandas.concat instead.\n",
      "  results = results.append(new_row, ignore_index=True)\n",
      "C:\\Users\\posta\\AppData\\Local\\Temp\\ipykernel_11304\\553589190.py:28: FutureWarning: The frame.append method is deprecated and will be removed from pandas in a future version. Use pandas.concat instead.\n",
      "  results = results.append(new_row, ignore_index=True)\n",
      "C:\\Users\\posta\\AppData\\Local\\Temp\\ipykernel_11304\\553589190.py:28: FutureWarning: The frame.append method is deprecated and will be removed from pandas in a future version. Use pandas.concat instead.\n",
      "  results = results.append(new_row, ignore_index=True)\n",
      "C:\\Users\\posta\\AppData\\Local\\Temp\\ipykernel_11304\\553589190.py:28: FutureWarning: The frame.append method is deprecated and will be removed from pandas in a future version. Use pandas.concat instead.\n",
      "  results = results.append(new_row, ignore_index=True)\n",
      "C:\\Users\\posta\\AppData\\Local\\Temp\\ipykernel_11304\\553589190.py:28: FutureWarning: The frame.append method is deprecated and will be removed from pandas in a future version. Use pandas.concat instead.\n",
      "  results = results.append(new_row, ignore_index=True)\n",
      "C:\\Users\\posta\\AppData\\Local\\Temp\\ipykernel_11304\\553589190.py:28: FutureWarning: The frame.append method is deprecated and will be removed from pandas in a future version. Use pandas.concat instead.\n",
      "  results = results.append(new_row, ignore_index=True)\n",
      "C:\\Users\\posta\\AppData\\Local\\Temp\\ipykernel_11304\\553589190.py:28: FutureWarning: The frame.append method is deprecated and will be removed from pandas in a future version. Use pandas.concat instead.\n",
      "  results = results.append(new_row, ignore_index=True)\n",
      "C:\\Users\\posta\\AppData\\Local\\Temp\\ipykernel_11304\\553589190.py:28: FutureWarning: The frame.append method is deprecated and will be removed from pandas in a future version. Use pandas.concat instead.\n",
      "  results = results.append(new_row, ignore_index=True)\n"
     ]
    }
   ],
   "source": [
    "c=0\n",
    "for d in datasets:\n",
    "    for tr in attacks:\n",
    "        for te in attacks:\n",
    "            for p in percentages:\n",
    "                print(c)\n",
    "                c=c+1\n",
    "                t_adv = load_object(f\"adv_training_sets/{d}_train_adv_{tr}_{p}\")\n",
    "                t_train = load_object(f\"models/model_{d}_{tr}_{p}\")\n",
    "                t = t_adv+t_train\n",
    "                print(t)\n",
    "                score = load_object(f\"scores/score_{d}_{p}_train_{tr}_test_{te}\")\n",
    "\n",
    "                new_row = {\n",
    "                    'dataset':d,\n",
    "                    'training_attack':tr,\n",
    "                    'test_attack':te,\n",
    "                    'adv_training_percentage':p,\n",
    "                    'training_time':t,\n",
    "                    'R2':score[0],\n",
    "                    'MAE':score[1],\n",
    "                    'MSE':score[2],\n",
    "                    'R2/time':score[0]/t,\n",
    "                    'MAE/time':score[1]/t,\n",
    "                    'MSE/time':score[2]/t\n",
    "                }\n",
    "                print(new_row)\n",
    "                results = results.append(new_row, ignore_index=True)\n",
    "\n",
    "save_object(results,\"results\")"
   ],
   "metadata": {
    "collapsed": false,
    "pycharm": {
     "name": "#%%\n"
    }
   }
  },
  {
   "cell_type": "code",
   "execution_count": 74,
   "outputs": [
    {
     "data": {
      "text/plain": "        dataset training_attack test_attack adv_training_percentage  \\\n0       housing            fgsm        fgsm                       0   \n1       housing            fgsm        fgsm                      25   \n2       housing            fgsm        fgsm                      50   \n3       housing            fgsm        fgsm                      75   \n4       housing            fgsm        fgsm                     100   \n5       housing            fgsm         pgd                       0   \n6       housing            fgsm         pgd                      25   \n7       housing            fgsm         pgd                      50   \n8       housing            fgsm         pgd                      75   \n9       housing            fgsm         pgd                     100   \n10      housing             pgd        fgsm                       0   \n11      housing             pgd        fgsm                      25   \n12      housing             pgd        fgsm                      50   \n13      housing             pgd        fgsm                      75   \n14      housing             pgd        fgsm                     100   \n15      housing             pgd         pgd                       0   \n16      housing             pgd         pgd                      25   \n17      housing             pgd         pgd                      50   \n18      housing             pgd         pgd                      75   \n19      housing             pgd         pgd                     100   \n20  temperature            fgsm        fgsm                       0   \n21  temperature            fgsm        fgsm                      25   \n22  temperature            fgsm        fgsm                      50   \n23  temperature            fgsm        fgsm                      75   \n24  temperature            fgsm        fgsm                     100   \n25  temperature            fgsm         pgd                       0   \n26  temperature            fgsm         pgd                      25   \n27  temperature            fgsm         pgd                      50   \n28  temperature            fgsm         pgd                      75   \n29  temperature            fgsm         pgd                     100   \n30  temperature             pgd        fgsm                       0   \n31  temperature             pgd        fgsm                      25   \n32  temperature             pgd        fgsm                      50   \n33  temperature             pgd        fgsm                      75   \n34  temperature             pgd        fgsm                     100   \n35  temperature             pgd         pgd                       0   \n36  temperature             pgd         pgd                      25   \n37  temperature             pgd         pgd                      50   \n38  temperature             pgd         pgd                      75   \n39  temperature             pgd         pgd                     100   \n\n    training_time        R2       MAE        MSE   R2/time  MAE/time  MSE/time  \n0       44.030864  0.024905  0.872241   1.274186  0.000566  0.019810  0.028938  \n1       85.850353  0.075441  0.885245   1.208149  0.000879  0.010311  0.014073  \n2       99.631434 -0.214387  0.650989   1.586875 -0.002152  0.006534  0.015927  \n3      189.086894  0.531159  0.548596   0.612649  0.002809  0.002901  0.003240  \n4      159.441691  0.094088  0.689123   1.183781  0.000590  0.004322  0.007425  \n5       44.030864  0.145314  0.796478   1.116843  0.003300  0.018089  0.025365  \n6       85.850353  0.318806  0.686565   0.890136  0.003714  0.007997  0.010368  \n7       99.631434 -0.158075  0.604344   1.513291 -0.001587  0.006066  0.015189  \n8      189.086894  0.504916  0.571863   0.646941  0.002670  0.003024  0.003421  \n9      159.441691  0.029747  0.734347   1.267858  0.000187  0.004606  0.007952  \n10      43.964837 -2.952391  1.437504   5.164704 -0.067153  0.032697  0.117474  \n11    1445.435115 -0.212170  0.925049   1.583977 -0.000147  0.000640  0.001096  \n12    1830.784020  0.126893  0.755410   1.140914  0.000069  0.000413  0.000623  \n13    4437.860977  0.336701  0.590172   0.866753  0.000076  0.000133  0.000195  \n14    4360.311604  0.400604  0.655403   0.783249  0.000092  0.000150  0.000180  \n15      43.964837 -2.366096  1.229630   4.398576 -0.053818  0.027968  0.100048  \n16    1445.435115  0.092025  0.678381   1.186478  0.000064  0.000469  0.000821  \n17    1830.784020  0.264558  0.645543   0.961024  0.000145  0.000353  0.000525  \n18    4437.860977  0.305801  0.618164   0.907130  0.000069  0.000139  0.000204  \n19    4360.311604  0.391519  0.661943   0.795120  0.000090  0.000152  0.000182  \n20      75.803202  0.457641  2.442041   8.645846  0.006037  0.032216  0.114056  \n21     106.615432  0.504832  2.301353   7.893566  0.004735  0.021586  0.074038  \n22     136.593971  0.437907  2.418645   8.960437  0.003206  0.017707  0.065599  \n23     162.841787  0.400220  2.469150   9.561210  0.002458  0.015163  0.058715  \n24     184.782557  0.383770  2.511432   9.823439  0.002077  0.013591  0.053162  \n25      75.803202  0.511482  2.266558   7.787567  0.006747  0.029901  0.102734  \n26     106.615432  0.559516  2.124330   7.021841  0.005248  0.019925  0.065861  \n27     136.593971  0.454706  2.372939   8.692636  0.003329  0.017372  0.063639  \n28     162.841787  0.413614  2.442878   9.347696  0.002540  0.015002  0.057404  \n29     184.782557  0.379905  2.526373   9.885061  0.002056  0.013672  0.053496  \n30      88.008097  0.441695  2.455148   8.900049  0.005019  0.027897  0.101128  \n31     466.159433  0.465308  2.397506   8.523634  0.000998  0.005143  0.018285  \n32     834.821141  0.431556  2.430259   9.061671  0.000517  0.002911  0.010855  \n33    1177.512111  0.362043  2.575749  10.169791  0.000307  0.002187  0.008637  \n34    1575.491864  0.307364  2.683397  11.041451  0.000195  0.001703  0.007008  \n35      88.008097  0.481935  2.325668   8.258568  0.005476  0.026426  0.093839  \n36     466.159433  0.520083  2.223154   7.650443  0.001116  0.004769  0.016412  \n37     834.821141  0.449958  2.384217   8.768329  0.000539  0.002856  0.010503  \n38    1177.512111  0.399009  2.485675   9.580515  0.000339  0.002111  0.008136  \n39    1575.491864  0.340744  2.606338  10.509332  0.000216  0.001654  0.006671  ",
      "text/html": "<div>\n<style scoped>\n    .dataframe tbody tr th:only-of-type {\n        vertical-align: middle;\n    }\n\n    .dataframe tbody tr th {\n        vertical-align: top;\n    }\n\n    .dataframe thead th {\n        text-align: right;\n    }\n</style>\n<table border=\"1\" class=\"dataframe\">\n  <thead>\n    <tr style=\"text-align: right;\">\n      <th></th>\n      <th>dataset</th>\n      <th>training_attack</th>\n      <th>test_attack</th>\n      <th>adv_training_percentage</th>\n      <th>training_time</th>\n      <th>R2</th>\n      <th>MAE</th>\n      <th>MSE</th>\n      <th>R2/time</th>\n      <th>MAE/time</th>\n      <th>MSE/time</th>\n    </tr>\n  </thead>\n  <tbody>\n    <tr>\n      <th>0</th>\n      <td>housing</td>\n      <td>fgsm</td>\n      <td>fgsm</td>\n      <td>0</td>\n      <td>44.030864</td>\n      <td>0.024905</td>\n      <td>0.872241</td>\n      <td>1.274186</td>\n      <td>0.000566</td>\n      <td>0.019810</td>\n      <td>0.028938</td>\n    </tr>\n    <tr>\n      <th>1</th>\n      <td>housing</td>\n      <td>fgsm</td>\n      <td>fgsm</td>\n      <td>25</td>\n      <td>85.850353</td>\n      <td>0.075441</td>\n      <td>0.885245</td>\n      <td>1.208149</td>\n      <td>0.000879</td>\n      <td>0.010311</td>\n      <td>0.014073</td>\n    </tr>\n    <tr>\n      <th>2</th>\n      <td>housing</td>\n      <td>fgsm</td>\n      <td>fgsm</td>\n      <td>50</td>\n      <td>99.631434</td>\n      <td>-0.214387</td>\n      <td>0.650989</td>\n      <td>1.586875</td>\n      <td>-0.002152</td>\n      <td>0.006534</td>\n      <td>0.015927</td>\n    </tr>\n    <tr>\n      <th>3</th>\n      <td>housing</td>\n      <td>fgsm</td>\n      <td>fgsm</td>\n      <td>75</td>\n      <td>189.086894</td>\n      <td>0.531159</td>\n      <td>0.548596</td>\n      <td>0.612649</td>\n      <td>0.002809</td>\n      <td>0.002901</td>\n      <td>0.003240</td>\n    </tr>\n    <tr>\n      <th>4</th>\n      <td>housing</td>\n      <td>fgsm</td>\n      <td>fgsm</td>\n      <td>100</td>\n      <td>159.441691</td>\n      <td>0.094088</td>\n      <td>0.689123</td>\n      <td>1.183781</td>\n      <td>0.000590</td>\n      <td>0.004322</td>\n      <td>0.007425</td>\n    </tr>\n    <tr>\n      <th>5</th>\n      <td>housing</td>\n      <td>fgsm</td>\n      <td>pgd</td>\n      <td>0</td>\n      <td>44.030864</td>\n      <td>0.145314</td>\n      <td>0.796478</td>\n      <td>1.116843</td>\n      <td>0.003300</td>\n      <td>0.018089</td>\n      <td>0.025365</td>\n    </tr>\n    <tr>\n      <th>6</th>\n      <td>housing</td>\n      <td>fgsm</td>\n      <td>pgd</td>\n      <td>25</td>\n      <td>85.850353</td>\n      <td>0.318806</td>\n      <td>0.686565</td>\n      <td>0.890136</td>\n      <td>0.003714</td>\n      <td>0.007997</td>\n      <td>0.010368</td>\n    </tr>\n    <tr>\n      <th>7</th>\n      <td>housing</td>\n      <td>fgsm</td>\n      <td>pgd</td>\n      <td>50</td>\n      <td>99.631434</td>\n      <td>-0.158075</td>\n      <td>0.604344</td>\n      <td>1.513291</td>\n      <td>-0.001587</td>\n      <td>0.006066</td>\n      <td>0.015189</td>\n    </tr>\n    <tr>\n      <th>8</th>\n      <td>housing</td>\n      <td>fgsm</td>\n      <td>pgd</td>\n      <td>75</td>\n      <td>189.086894</td>\n      <td>0.504916</td>\n      <td>0.571863</td>\n      <td>0.646941</td>\n      <td>0.002670</td>\n      <td>0.003024</td>\n      <td>0.003421</td>\n    </tr>\n    <tr>\n      <th>9</th>\n      <td>housing</td>\n      <td>fgsm</td>\n      <td>pgd</td>\n      <td>100</td>\n      <td>159.441691</td>\n      <td>0.029747</td>\n      <td>0.734347</td>\n      <td>1.267858</td>\n      <td>0.000187</td>\n      <td>0.004606</td>\n      <td>0.007952</td>\n    </tr>\n    <tr>\n      <th>10</th>\n      <td>housing</td>\n      <td>pgd</td>\n      <td>fgsm</td>\n      <td>0</td>\n      <td>43.964837</td>\n      <td>-2.952391</td>\n      <td>1.437504</td>\n      <td>5.164704</td>\n      <td>-0.067153</td>\n      <td>0.032697</td>\n      <td>0.117474</td>\n    </tr>\n    <tr>\n      <th>11</th>\n      <td>housing</td>\n      <td>pgd</td>\n      <td>fgsm</td>\n      <td>25</td>\n      <td>1445.435115</td>\n      <td>-0.212170</td>\n      <td>0.925049</td>\n      <td>1.583977</td>\n      <td>-0.000147</td>\n      <td>0.000640</td>\n      <td>0.001096</td>\n    </tr>\n    <tr>\n      <th>12</th>\n      <td>housing</td>\n      <td>pgd</td>\n      <td>fgsm</td>\n      <td>50</td>\n      <td>1830.784020</td>\n      <td>0.126893</td>\n      <td>0.755410</td>\n      <td>1.140914</td>\n      <td>0.000069</td>\n      <td>0.000413</td>\n      <td>0.000623</td>\n    </tr>\n    <tr>\n      <th>13</th>\n      <td>housing</td>\n      <td>pgd</td>\n      <td>fgsm</td>\n      <td>75</td>\n      <td>4437.860977</td>\n      <td>0.336701</td>\n      <td>0.590172</td>\n      <td>0.866753</td>\n      <td>0.000076</td>\n      <td>0.000133</td>\n      <td>0.000195</td>\n    </tr>\n    <tr>\n      <th>14</th>\n      <td>housing</td>\n      <td>pgd</td>\n      <td>fgsm</td>\n      <td>100</td>\n      <td>4360.311604</td>\n      <td>0.400604</td>\n      <td>0.655403</td>\n      <td>0.783249</td>\n      <td>0.000092</td>\n      <td>0.000150</td>\n      <td>0.000180</td>\n    </tr>\n    <tr>\n      <th>15</th>\n      <td>housing</td>\n      <td>pgd</td>\n      <td>pgd</td>\n      <td>0</td>\n      <td>43.964837</td>\n      <td>-2.366096</td>\n      <td>1.229630</td>\n      <td>4.398576</td>\n      <td>-0.053818</td>\n      <td>0.027968</td>\n      <td>0.100048</td>\n    </tr>\n    <tr>\n      <th>16</th>\n      <td>housing</td>\n      <td>pgd</td>\n      <td>pgd</td>\n      <td>25</td>\n      <td>1445.435115</td>\n      <td>0.092025</td>\n      <td>0.678381</td>\n      <td>1.186478</td>\n      <td>0.000064</td>\n      <td>0.000469</td>\n      <td>0.000821</td>\n    </tr>\n    <tr>\n      <th>17</th>\n      <td>housing</td>\n      <td>pgd</td>\n      <td>pgd</td>\n      <td>50</td>\n      <td>1830.784020</td>\n      <td>0.264558</td>\n      <td>0.645543</td>\n      <td>0.961024</td>\n      <td>0.000145</td>\n      <td>0.000353</td>\n      <td>0.000525</td>\n    </tr>\n    <tr>\n      <th>18</th>\n      <td>housing</td>\n      <td>pgd</td>\n      <td>pgd</td>\n      <td>75</td>\n      <td>4437.860977</td>\n      <td>0.305801</td>\n      <td>0.618164</td>\n      <td>0.907130</td>\n      <td>0.000069</td>\n      <td>0.000139</td>\n      <td>0.000204</td>\n    </tr>\n    <tr>\n      <th>19</th>\n      <td>housing</td>\n      <td>pgd</td>\n      <td>pgd</td>\n      <td>100</td>\n      <td>4360.311604</td>\n      <td>0.391519</td>\n      <td>0.661943</td>\n      <td>0.795120</td>\n      <td>0.000090</td>\n      <td>0.000152</td>\n      <td>0.000182</td>\n    </tr>\n    <tr>\n      <th>20</th>\n      <td>temperature</td>\n      <td>fgsm</td>\n      <td>fgsm</td>\n      <td>0</td>\n      <td>75.803202</td>\n      <td>0.457641</td>\n      <td>2.442041</td>\n      <td>8.645846</td>\n      <td>0.006037</td>\n      <td>0.032216</td>\n      <td>0.114056</td>\n    </tr>\n    <tr>\n      <th>21</th>\n      <td>temperature</td>\n      <td>fgsm</td>\n      <td>fgsm</td>\n      <td>25</td>\n      <td>106.615432</td>\n      <td>0.504832</td>\n      <td>2.301353</td>\n      <td>7.893566</td>\n      <td>0.004735</td>\n      <td>0.021586</td>\n      <td>0.074038</td>\n    </tr>\n    <tr>\n      <th>22</th>\n      <td>temperature</td>\n      <td>fgsm</td>\n      <td>fgsm</td>\n      <td>50</td>\n      <td>136.593971</td>\n      <td>0.437907</td>\n      <td>2.418645</td>\n      <td>8.960437</td>\n      <td>0.003206</td>\n      <td>0.017707</td>\n      <td>0.065599</td>\n    </tr>\n    <tr>\n      <th>23</th>\n      <td>temperature</td>\n      <td>fgsm</td>\n      <td>fgsm</td>\n      <td>75</td>\n      <td>162.841787</td>\n      <td>0.400220</td>\n      <td>2.469150</td>\n      <td>9.561210</td>\n      <td>0.002458</td>\n      <td>0.015163</td>\n      <td>0.058715</td>\n    </tr>\n    <tr>\n      <th>24</th>\n      <td>temperature</td>\n      <td>fgsm</td>\n      <td>fgsm</td>\n      <td>100</td>\n      <td>184.782557</td>\n      <td>0.383770</td>\n      <td>2.511432</td>\n      <td>9.823439</td>\n      <td>0.002077</td>\n      <td>0.013591</td>\n      <td>0.053162</td>\n    </tr>\n    <tr>\n      <th>25</th>\n      <td>temperature</td>\n      <td>fgsm</td>\n      <td>pgd</td>\n      <td>0</td>\n      <td>75.803202</td>\n      <td>0.511482</td>\n      <td>2.266558</td>\n      <td>7.787567</td>\n      <td>0.006747</td>\n      <td>0.029901</td>\n      <td>0.102734</td>\n    </tr>\n    <tr>\n      <th>26</th>\n      <td>temperature</td>\n      <td>fgsm</td>\n      <td>pgd</td>\n      <td>25</td>\n      <td>106.615432</td>\n      <td>0.559516</td>\n      <td>2.124330</td>\n      <td>7.021841</td>\n      <td>0.005248</td>\n      <td>0.019925</td>\n      <td>0.065861</td>\n    </tr>\n    <tr>\n      <th>27</th>\n      <td>temperature</td>\n      <td>fgsm</td>\n      <td>pgd</td>\n      <td>50</td>\n      <td>136.593971</td>\n      <td>0.454706</td>\n      <td>2.372939</td>\n      <td>8.692636</td>\n      <td>0.003329</td>\n      <td>0.017372</td>\n      <td>0.063639</td>\n    </tr>\n    <tr>\n      <th>28</th>\n      <td>temperature</td>\n      <td>fgsm</td>\n      <td>pgd</td>\n      <td>75</td>\n      <td>162.841787</td>\n      <td>0.413614</td>\n      <td>2.442878</td>\n      <td>9.347696</td>\n      <td>0.002540</td>\n      <td>0.015002</td>\n      <td>0.057404</td>\n    </tr>\n    <tr>\n      <th>29</th>\n      <td>temperature</td>\n      <td>fgsm</td>\n      <td>pgd</td>\n      <td>100</td>\n      <td>184.782557</td>\n      <td>0.379905</td>\n      <td>2.526373</td>\n      <td>9.885061</td>\n      <td>0.002056</td>\n      <td>0.013672</td>\n      <td>0.053496</td>\n    </tr>\n    <tr>\n      <th>30</th>\n      <td>temperature</td>\n      <td>pgd</td>\n      <td>fgsm</td>\n      <td>0</td>\n      <td>88.008097</td>\n      <td>0.441695</td>\n      <td>2.455148</td>\n      <td>8.900049</td>\n      <td>0.005019</td>\n      <td>0.027897</td>\n      <td>0.101128</td>\n    </tr>\n    <tr>\n      <th>31</th>\n      <td>temperature</td>\n      <td>pgd</td>\n      <td>fgsm</td>\n      <td>25</td>\n      <td>466.159433</td>\n      <td>0.465308</td>\n      <td>2.397506</td>\n      <td>8.523634</td>\n      <td>0.000998</td>\n      <td>0.005143</td>\n      <td>0.018285</td>\n    </tr>\n    <tr>\n      <th>32</th>\n      <td>temperature</td>\n      <td>pgd</td>\n      <td>fgsm</td>\n      <td>50</td>\n      <td>834.821141</td>\n      <td>0.431556</td>\n      <td>2.430259</td>\n      <td>9.061671</td>\n      <td>0.000517</td>\n      <td>0.002911</td>\n      <td>0.010855</td>\n    </tr>\n    <tr>\n      <th>33</th>\n      <td>temperature</td>\n      <td>pgd</td>\n      <td>fgsm</td>\n      <td>75</td>\n      <td>1177.512111</td>\n      <td>0.362043</td>\n      <td>2.575749</td>\n      <td>10.169791</td>\n      <td>0.000307</td>\n      <td>0.002187</td>\n      <td>0.008637</td>\n    </tr>\n    <tr>\n      <th>34</th>\n      <td>temperature</td>\n      <td>pgd</td>\n      <td>fgsm</td>\n      <td>100</td>\n      <td>1575.491864</td>\n      <td>0.307364</td>\n      <td>2.683397</td>\n      <td>11.041451</td>\n      <td>0.000195</td>\n      <td>0.001703</td>\n      <td>0.007008</td>\n    </tr>\n    <tr>\n      <th>35</th>\n      <td>temperature</td>\n      <td>pgd</td>\n      <td>pgd</td>\n      <td>0</td>\n      <td>88.008097</td>\n      <td>0.481935</td>\n      <td>2.325668</td>\n      <td>8.258568</td>\n      <td>0.005476</td>\n      <td>0.026426</td>\n      <td>0.093839</td>\n    </tr>\n    <tr>\n      <th>36</th>\n      <td>temperature</td>\n      <td>pgd</td>\n      <td>pgd</td>\n      <td>25</td>\n      <td>466.159433</td>\n      <td>0.520083</td>\n      <td>2.223154</td>\n      <td>7.650443</td>\n      <td>0.001116</td>\n      <td>0.004769</td>\n      <td>0.016412</td>\n    </tr>\n    <tr>\n      <th>37</th>\n      <td>temperature</td>\n      <td>pgd</td>\n      <td>pgd</td>\n      <td>50</td>\n      <td>834.821141</td>\n      <td>0.449958</td>\n      <td>2.384217</td>\n      <td>8.768329</td>\n      <td>0.000539</td>\n      <td>0.002856</td>\n      <td>0.010503</td>\n    </tr>\n    <tr>\n      <th>38</th>\n      <td>temperature</td>\n      <td>pgd</td>\n      <td>pgd</td>\n      <td>75</td>\n      <td>1177.512111</td>\n      <td>0.399009</td>\n      <td>2.485675</td>\n      <td>9.580515</td>\n      <td>0.000339</td>\n      <td>0.002111</td>\n      <td>0.008136</td>\n    </tr>\n    <tr>\n      <th>39</th>\n      <td>temperature</td>\n      <td>pgd</td>\n      <td>pgd</td>\n      <td>100</td>\n      <td>1575.491864</td>\n      <td>0.340744</td>\n      <td>2.606338</td>\n      <td>10.509332</td>\n      <td>0.000216</td>\n      <td>0.001654</td>\n      <td>0.006671</td>\n    </tr>\n  </tbody>\n</table>\n</div>"
     },
     "execution_count": 74,
     "metadata": {},
     "output_type": "execute_result"
    }
   ],
   "source": [
    "results"
   ],
   "metadata": {
    "collapsed": false,
    "pycharm": {
     "name": "#%%\n"
    }
   }
  },
  {
   "cell_type": "code",
   "execution_count": null,
   "outputs": [],
   "source": [],
   "metadata": {
    "collapsed": false,
    "pycharm": {
     "name": "#%%\n"
    }
   }
  }
 ],
 "metadata": {
  "kernelspec": {
   "display_name": "Python 3",
   "language": "python",
   "name": "python3"
  },
  "language_info": {
   "codemirror_mode": {
    "name": "ipython",
    "version": 2
   },
   "file_extension": ".py",
   "mimetype": "text/x-python",
   "name": "python",
   "nbconvert_exporter": "python",
   "pygments_lexer": "ipython2",
   "version": "2.7.6"
  }
 },
 "nbformat": 4,
 "nbformat_minor": 0
}